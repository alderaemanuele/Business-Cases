{
 "cells": [
  {
   "cell_type": "code",
   "execution_count": 1,
   "metadata": {},
   "outputs": [],
   "source": [
    "import numpy as np\n",
    "import pandas as pd\n",
    "import yfinance as yf\n",
    "import plotly.graph_objs as go"
   ]
  },
  {
   "cell_type": "code",
   "execution_count": 2,
   "metadata": {},
   "outputs": [
    {
     "name": "stdout",
     "output_type": "stream",
     "text": [
      "[*********************100%***********************]  1 of 1 completed\n"
     ]
    }
   ],
   "source": [
    "df = yf.download(tickers=\"BTC-USD\", period = \"max\", interval = \"1d\")"
   ]
  },
  {
   "cell_type": "code",
   "execution_count": 3,
   "metadata": {},
   "outputs": [
    {
     "data": {
      "text/html": [
       "<div>\n",
       "<style scoped>\n",
       "    .dataframe tbody tr th:only-of-type {\n",
       "        vertical-align: middle;\n",
       "    }\n",
       "\n",
       "    .dataframe tbody tr th {\n",
       "        vertical-align: top;\n",
       "    }\n",
       "\n",
       "    .dataframe thead th {\n",
       "        text-align: right;\n",
       "    }\n",
       "</style>\n",
       "<table border=\"1\" class=\"dataframe\">\n",
       "  <thead>\n",
       "    <tr style=\"text-align: right;\">\n",
       "      <th></th>\n",
       "      <th>Open</th>\n",
       "      <th>High</th>\n",
       "      <th>Low</th>\n",
       "      <th>Close</th>\n",
       "      <th>Adj Close</th>\n",
       "      <th>Volume</th>\n",
       "    </tr>\n",
       "    <tr>\n",
       "      <th>Date</th>\n",
       "      <th></th>\n",
       "      <th></th>\n",
       "      <th></th>\n",
       "      <th></th>\n",
       "      <th></th>\n",
       "      <th></th>\n",
       "    </tr>\n",
       "  </thead>\n",
       "  <tbody>\n",
       "    <tr>\n",
       "      <th>2014-09-17</th>\n",
       "      <td>465.864014</td>\n",
       "      <td>468.174011</td>\n",
       "      <td>452.421997</td>\n",
       "      <td>457.334015</td>\n",
       "      <td>457.334015</td>\n",
       "      <td>21056800</td>\n",
       "    </tr>\n",
       "    <tr>\n",
       "      <th>2014-09-18</th>\n",
       "      <td>456.859985</td>\n",
       "      <td>456.859985</td>\n",
       "      <td>413.104004</td>\n",
       "      <td>424.440002</td>\n",
       "      <td>424.440002</td>\n",
       "      <td>34483200</td>\n",
       "    </tr>\n",
       "    <tr>\n",
       "      <th>2014-09-19</th>\n",
       "      <td>424.102997</td>\n",
       "      <td>427.834991</td>\n",
       "      <td>384.532013</td>\n",
       "      <td>394.795990</td>\n",
       "      <td>394.795990</td>\n",
       "      <td>37919700</td>\n",
       "    </tr>\n",
       "    <tr>\n",
       "      <th>2014-09-20</th>\n",
       "      <td>394.673004</td>\n",
       "      <td>423.295990</td>\n",
       "      <td>389.882996</td>\n",
       "      <td>408.903992</td>\n",
       "      <td>408.903992</td>\n",
       "      <td>36863600</td>\n",
       "    </tr>\n",
       "    <tr>\n",
       "      <th>2014-09-21</th>\n",
       "      <td>408.084991</td>\n",
       "      <td>412.425995</td>\n",
       "      <td>393.181000</td>\n",
       "      <td>398.821014</td>\n",
       "      <td>398.821014</td>\n",
       "      <td>26580100</td>\n",
       "    </tr>\n",
       "    <tr>\n",
       "      <th>...</th>\n",
       "      <td>...</td>\n",
       "      <td>...</td>\n",
       "      <td>...</td>\n",
       "      <td>...</td>\n",
       "      <td>...</td>\n",
       "      <td>...</td>\n",
       "    </tr>\n",
       "    <tr>\n",
       "      <th>2022-05-17</th>\n",
       "      <td>29862.408203</td>\n",
       "      <td>30694.490234</td>\n",
       "      <td>29570.302734</td>\n",
       "      <td>30425.857422</td>\n",
       "      <td>30425.857422</td>\n",
       "      <td>29101473475</td>\n",
       "    </tr>\n",
       "    <tr>\n",
       "      <th>2022-05-18</th>\n",
       "      <td>30424.478516</td>\n",
       "      <td>30618.716797</td>\n",
       "      <td>28720.271484</td>\n",
       "      <td>28720.271484</td>\n",
       "      <td>28720.271484</td>\n",
       "      <td>31285268319</td>\n",
       "    </tr>\n",
       "    <tr>\n",
       "      <th>2022-05-19</th>\n",
       "      <td>28720.359375</td>\n",
       "      <td>30430.751953</td>\n",
       "      <td>28708.955078</td>\n",
       "      <td>30314.333984</td>\n",
       "      <td>30314.333984</td>\n",
       "      <td>33773447707</td>\n",
       "    </tr>\n",
       "    <tr>\n",
       "      <th>2022-05-20</th>\n",
       "      <td>30311.119141</td>\n",
       "      <td>30664.976562</td>\n",
       "      <td>28793.605469</td>\n",
       "      <td>29200.740234</td>\n",
       "      <td>29200.740234</td>\n",
       "      <td>30749382605</td>\n",
       "    </tr>\n",
       "    <tr>\n",
       "      <th>2022-05-21</th>\n",
       "      <td>29168.476562</td>\n",
       "      <td>29488.177734</td>\n",
       "      <td>29062.800781</td>\n",
       "      <td>29238.904297</td>\n",
       "      <td>29238.904297</td>\n",
       "      <td>26229991424</td>\n",
       "    </tr>\n",
       "  </tbody>\n",
       "</table>\n",
       "<p>2804 rows × 6 columns</p>\n",
       "</div>"
      ],
      "text/plain": [
       "                    Open          High           Low         Close  \\\n",
       "Date                                                                 \n",
       "2014-09-17    465.864014    468.174011    452.421997    457.334015   \n",
       "2014-09-18    456.859985    456.859985    413.104004    424.440002   \n",
       "2014-09-19    424.102997    427.834991    384.532013    394.795990   \n",
       "2014-09-20    394.673004    423.295990    389.882996    408.903992   \n",
       "2014-09-21    408.084991    412.425995    393.181000    398.821014   \n",
       "...                  ...           ...           ...           ...   \n",
       "2022-05-17  29862.408203  30694.490234  29570.302734  30425.857422   \n",
       "2022-05-18  30424.478516  30618.716797  28720.271484  28720.271484   \n",
       "2022-05-19  28720.359375  30430.751953  28708.955078  30314.333984   \n",
       "2022-05-20  30311.119141  30664.976562  28793.605469  29200.740234   \n",
       "2022-05-21  29168.476562  29488.177734  29062.800781  29238.904297   \n",
       "\n",
       "               Adj Close       Volume  \n",
       "Date                                   \n",
       "2014-09-17    457.334015     21056800  \n",
       "2014-09-18    424.440002     34483200  \n",
       "2014-09-19    394.795990     37919700  \n",
       "2014-09-20    408.903992     36863600  \n",
       "2014-09-21    398.821014     26580100  \n",
       "...                  ...          ...  \n",
       "2022-05-17  30425.857422  29101473475  \n",
       "2022-05-18  28720.271484  31285268319  \n",
       "2022-05-19  30314.333984  33773447707  \n",
       "2022-05-20  29200.740234  30749382605  \n",
       "2022-05-21  29238.904297  26229991424  \n",
       "\n",
       "[2804 rows x 6 columns]"
      ]
     },
     "execution_count": 3,
     "metadata": {},
     "output_type": "execute_result"
    }
   ],
   "source": [
    "df"
   ]
  },
  {
   "cell_type": "code",
   "execution_count": 33,
   "metadata": {},
   "outputs": [],
   "source": [
    "def create_leaderboard(lb_range = \"1d\"):\n",
    "    \"\"\"creates a leaderboard of the most performing coins in a time range \n",
    "    possible values for argument: one day 1d, five days 5d, one month 1mo, 2months 2mo, one quarter 3mo, one year 1y\"\"\"\n",
    "    if (lb_range == \"1d\"):\n",
    "        data_lb = yf.download(tickers=coins, period = \"2d\", interval = \"15m\")\n",
    "    elif (lb_range == \"5d\"):\n",
    "        data_lb = yf.download(tickers=coins, period = \"2d\", interval = \"60m\")\n",
    "    else:\n",
    "        data_lb = yf.download(tickers=coins, period = lb_range, interval = \"1d\")\n",
    "    # creating empty df\n",
    "    leaderboard = pd.DataFrame(columns = [\"Percentage\"])\n",
    "    # appending percentage change in the timeframe for each coin into leaderboard df\n",
    "    for coin in coins:\n",
    "        prc = ((data_lb[\"Close\", coin].iloc[-1] - data_lb[\"Close\", coin].iloc[0]) / data_lb[\"Close\", coin].iloc[-1]) * 100\n",
    "        prc = np.round(prc, 2)\n",
    "        leaderboard.loc[coin] = prc\n",
    "    leaderboard.sort_values(\"Percentage\", ascending=False, inplace=True)\n",
    "    return data_lb, leaderboard\n",
    "\n",
    "def get_linegraph(close_price, coin_name):\n",
    "    fig = go.Scatter(\n",
    "            x = close_price.index,\n",
    "            y = close_price.values,\n",
    "            name = coin_name,\n",
    "        )\n",
    "    #layout\n",
    "    # fig = go.Figure(\n",
    "    #     layout = go.Layout(\n",
    "    #     autosize=False,\n",
    "    #     # width=1000,\n",
    "    #     # height=1000,\n",
    "    #     xaxis= go.layout.XAxis(linecolor = 'black',\n",
    "    #                           linewidth = 1,\n",
    "    #                           mirror = True),\n",
    "\n",
    "    #     yaxis= go.layout.YAxis(linecolor = 'black',\n",
    "    #                           linewidth = 1,\n",
    "    #                           mirror = True),\n",
    "    #     margin=go.layout.Margin(\n",
    "    #         l=50,\n",
    "    #         r=50,\n",
    "    #         b=100,\n",
    "    #         t=100,\n",
    "    #         pad = 4\n",
    "    #     ))\n",
    "    # )\n",
    "    #scatter\n",
    "    # fig = fig.add_trace(\n",
    "    #     go.Scatter(\n",
    "    #         x = close_price.index,\n",
    "    #         y = close_price.values,\n",
    "    #         name = coin_name,\n",
    "    #     )\n",
    "    # )\n",
    "    fig.update_layout(\n",
    "        title = coin_name,\n",
    "        xaxis_title = 'Date',\n",
    "        yaxis_title = f'Close Price',\n",
    "        paper_bgcolor='rgba(0,0,0,0)',\n",
    "        plot_bgcolor='rgba(0,0,0,0)'\n",
    "    )\n",
    "    fig.update_yaxes(tickprefix='$')\n",
    "    return fig\n",
    "\n",
    "\n",
    "def get_top_bot(data_lb, leaderboard):\n",
    "    \"\"\"returns the linegraph figures for the two top and bottom performancers for the range specified in create_leaderboard() function \"\"\"\n",
    "    leaderboard.dropna(inplace=True)\n",
    "    fig1 = get_linegraph(data_lb[\"Close\", leaderboard.iloc[0].name], leaderboard.iloc[0].name)\n",
    "    fig2 = get_linegraph(data_lb[\"Close\", leaderboard.iloc[1].name], leaderboard.iloc[1].name)\n",
    "    fig3 = get_linegraph(data_lb[\"Close\", leaderboard.iloc[-2].name], leaderboard.iloc[-2].name)\n",
    "    fig4 = get_linegraph(data_lb[\"Close\", leaderboard.iloc[-1].name], leaderboard.iloc[-1].name)\n",
    "    return fig1, fig2, fig3, fig4\n",
    "\n",
    "\n",
    "\n",
    "def plot_leaderboard(leaderboard):\n",
    "    \"\"\"returns the table leaderboard figure\"\"\"\n",
    "    leaderboard.dropna(inplace=True)\n",
    "    fig = go.Figure(data=[go.Table(\n",
    "    header=dict(values=[\"Coins\", \"Percentage change in closing price\"],\n",
    "                fill_color='lightgray',\n",
    "                align='center'),\n",
    "    cells=dict(values=[leaderboard.index, leaderboard],\n",
    "               fill_color='white',\n",
    "               align='center'))\n",
    "    ])\n",
    "    fig.update_layout(\n",
    "        title = 'Leaderboard'\n",
    "    )\n",
    "    return fig"
   ]
  },
  {
   "cell_type": "code",
   "execution_count": 31,
   "metadata": {},
   "outputs": [],
   "source": [
    "coins_bc4 = ['ADA-USD', 'ATOM-USD', 'AVAX-USD', 'AXS-USD', 'LUNA1-USD', 'MATIC-USD', 'BTC-USD', 'ETH-USD', 'SOL-USD', \"LINK-USD\"]\n",
    "coins_added = [\"DOGE-USD\", \"DOT-USD\", \"TRX-USD\", \"SHIB-USD\", \"LTC-USD\", \"XMR-USD\", \"FLOW-USD\", \"HNT-USD\", \"QNT-USD\", \"PAXG-USD\"]\n",
    "coins = coins_bc4 + coins_added"
   ]
  },
  {
   "cell_type": "code",
   "execution_count": 34,
   "metadata": {},
   "outputs": [
    {
     "name": "stdout",
     "output_type": "stream",
     "text": [
      "[*********************100%***********************]  20 of 20 completed\n",
      "1\n"
     ]
    },
    {
     "ename": "AttributeError",
     "evalue": "'Scatter' object has no attribute 'update_layout'",
     "output_type": "error",
     "traceback": [
      "\u001b[1;31m---------------------------------------------------------------------------\u001b[0m",
      "\u001b[1;31mAttributeError\u001b[0m                            Traceback (most recent call last)",
      "\u001b[1;32mc:\\Users\\emanu\\OneDrive\\Documenti\\GitHub\\Business-Cases\\BC5\\support.ipynb Cell 6'\u001b[0m in \u001b[0;36m<module>\u001b[1;34m\u001b[0m\n\u001b[0;32m      <a href='vscode-notebook-cell:/c%3A/Users/emanu/OneDrive/Documenti/GitHub/Business-Cases/BC5/support.ipynb#ch0000004?line=0'>1</a>\u001b[0m data_lb, leaderboard \u001b[39m=\u001b[39m create_leaderboard()\n\u001b[0;32m      <a href='vscode-notebook-cell:/c%3A/Users/emanu/OneDrive/Documenti/GitHub/Business-Cases/BC5/support.ipynb#ch0000004?line=1'>2</a>\u001b[0m \u001b[39mprint\u001b[39m(\u001b[39m\"\u001b[39m\u001b[39m1\u001b[39m\u001b[39m\"\u001b[39m)\n\u001b[1;32m----> <a href='vscode-notebook-cell:/c%3A/Users/emanu/OneDrive/Documenti/GitHub/Business-Cases/BC5/support.ipynb#ch0000004?line=2'>3</a>\u001b[0m top1, top2, bot1, bot2 \u001b[39m=\u001b[39m get_top_bot(data_lb, leaderboard)\n\u001b[0;32m      <a href='vscode-notebook-cell:/c%3A/Users/emanu/OneDrive/Documenti/GitHub/Business-Cases/BC5/support.ipynb#ch0000004?line=3'>4</a>\u001b[0m \u001b[39mprint\u001b[39m(\u001b[39m\"\u001b[39m\u001b[39m2\u001b[39m\u001b[39m\"\u001b[39m)\n\u001b[0;32m      <a href='vscode-notebook-cell:/c%3A/Users/emanu/OneDrive/Documenti/GitHub/Business-Cases/BC5/support.ipynb#ch0000004?line=4'>5</a>\u001b[0m plt_coins \u001b[39m=\u001b[39m make_subplots(rows \u001b[39m=\u001b[39m \u001b[39m2\u001b[39m, cols \u001b[39m=\u001b[39m \u001b[39m2\u001b[39m, start_cell\u001b[39m=\u001b[39m\u001b[39m\"\u001b[39m\u001b[39mbottom-left\u001b[39m\u001b[39m\"\u001b[39m)\n",
      "\u001b[1;32mc:\\Users\\emanu\\OneDrive\\Documenti\\GitHub\\Business-Cases\\BC5\\support.ipynb Cell 4'\u001b[0m in \u001b[0;36mget_top_bot\u001b[1;34m(data_lb, leaderboard)\u001b[0m\n\u001b[0;32m     <a href='vscode-notebook-cell:/c%3A/Users/emanu/OneDrive/Documenti/GitHub/Business-Cases/BC5/support.ipynb#ch0000003?line=66'>67</a>\u001b[0m \u001b[39m\"\"\"returns the linegraph figures for the two top and bottom performancers for the range specified in create_leaderboard() function \"\"\"\u001b[39;00m\n\u001b[0;32m     <a href='vscode-notebook-cell:/c%3A/Users/emanu/OneDrive/Documenti/GitHub/Business-Cases/BC5/support.ipynb#ch0000003?line=67'>68</a>\u001b[0m leaderboard\u001b[39m.\u001b[39mdropna(inplace\u001b[39m=\u001b[39m\u001b[39mTrue\u001b[39;00m)\n\u001b[1;32m---> <a href='vscode-notebook-cell:/c%3A/Users/emanu/OneDrive/Documenti/GitHub/Business-Cases/BC5/support.ipynb#ch0000003?line=68'>69</a>\u001b[0m fig1 \u001b[39m=\u001b[39m get_linegraph(data_lb[\u001b[39m\"\u001b[39;49m\u001b[39mClose\u001b[39;49m\u001b[39m\"\u001b[39;49m, leaderboard\u001b[39m.\u001b[39;49miloc[\u001b[39m0\u001b[39;49m]\u001b[39m.\u001b[39;49mname], leaderboard\u001b[39m.\u001b[39;49miloc[\u001b[39m0\u001b[39;49m]\u001b[39m.\u001b[39;49mname)\n\u001b[0;32m     <a href='vscode-notebook-cell:/c%3A/Users/emanu/OneDrive/Documenti/GitHub/Business-Cases/BC5/support.ipynb#ch0000003?line=69'>70</a>\u001b[0m fig2 \u001b[39m=\u001b[39m get_linegraph(data_lb[\u001b[39m\"\u001b[39m\u001b[39mClose\u001b[39m\u001b[39m\"\u001b[39m, leaderboard\u001b[39m.\u001b[39miloc[\u001b[39m1\u001b[39m]\u001b[39m.\u001b[39mname], leaderboard\u001b[39m.\u001b[39miloc[\u001b[39m1\u001b[39m]\u001b[39m.\u001b[39mname)\n\u001b[0;32m     <a href='vscode-notebook-cell:/c%3A/Users/emanu/OneDrive/Documenti/GitHub/Business-Cases/BC5/support.ipynb#ch0000003?line=70'>71</a>\u001b[0m fig3 \u001b[39m=\u001b[39m get_linegraph(data_lb[\u001b[39m\"\u001b[39m\u001b[39mClose\u001b[39m\u001b[39m\"\u001b[39m, leaderboard\u001b[39m.\u001b[39miloc[\u001b[39m-\u001b[39m\u001b[39m2\u001b[39m]\u001b[39m.\u001b[39mname], leaderboard\u001b[39m.\u001b[39miloc[\u001b[39m-\u001b[39m\u001b[39m2\u001b[39m]\u001b[39m.\u001b[39mname)\n",
      "\u001b[1;32mc:\\Users\\emanu\\OneDrive\\Documenti\\GitHub\\Business-Cases\\BC5\\support.ipynb Cell 4'\u001b[0m in \u001b[0;36mget_linegraph\u001b[1;34m(close_price, coin_name)\u001b[0m\n\u001b[0;32m     <a href='vscode-notebook-cell:/c%3A/Users/emanu/OneDrive/Documenti/GitHub/Business-Cases/BC5/support.ipynb#ch0000003?line=20'>21</a>\u001b[0m fig \u001b[39m=\u001b[39m go\u001b[39m.\u001b[39mScatter(\n\u001b[0;32m     <a href='vscode-notebook-cell:/c%3A/Users/emanu/OneDrive/Documenti/GitHub/Business-Cases/BC5/support.ipynb#ch0000003?line=21'>22</a>\u001b[0m         x \u001b[39m=\u001b[39m close_price\u001b[39m.\u001b[39mindex,\n\u001b[0;32m     <a href='vscode-notebook-cell:/c%3A/Users/emanu/OneDrive/Documenti/GitHub/Business-Cases/BC5/support.ipynb#ch0000003?line=22'>23</a>\u001b[0m         y \u001b[39m=\u001b[39m close_price\u001b[39m.\u001b[39mvalues,\n\u001b[0;32m     <a href='vscode-notebook-cell:/c%3A/Users/emanu/OneDrive/Documenti/GitHub/Business-Cases/BC5/support.ipynb#ch0000003?line=23'>24</a>\u001b[0m         name \u001b[39m=\u001b[39m coin_name,\n\u001b[0;32m     <a href='vscode-notebook-cell:/c%3A/Users/emanu/OneDrive/Documenti/GitHub/Business-Cases/BC5/support.ipynb#ch0000003?line=24'>25</a>\u001b[0m     )\n\u001b[0;32m     <a href='vscode-notebook-cell:/c%3A/Users/emanu/OneDrive/Documenti/GitHub/Business-Cases/BC5/support.ipynb#ch0000003?line=25'>26</a>\u001b[0m \u001b[39m#layout\u001b[39;00m\n\u001b[0;32m     <a href='vscode-notebook-cell:/c%3A/Users/emanu/OneDrive/Documenti/GitHub/Business-Cases/BC5/support.ipynb#ch0000003?line=26'>27</a>\u001b[0m \u001b[39m# fig = go.Figure(\u001b[39;00m\n\u001b[0;32m     <a href='vscode-notebook-cell:/c%3A/Users/emanu/OneDrive/Documenti/GitHub/Business-Cases/BC5/support.ipynb#ch0000003?line=27'>28</a>\u001b[0m \u001b[39m#     layout = go.Layout(\u001b[39;00m\n\u001b[1;32m   (...)\u001b[0m\n\u001b[0;32m     <a href='vscode-notebook-cell:/c%3A/Users/emanu/OneDrive/Documenti/GitHub/Business-Cases/BC5/support.ipynb#ch0000003?line=52'>53</a>\u001b[0m \u001b[39m#     )\u001b[39;00m\n\u001b[0;32m     <a href='vscode-notebook-cell:/c%3A/Users/emanu/OneDrive/Documenti/GitHub/Business-Cases/BC5/support.ipynb#ch0000003?line=53'>54</a>\u001b[0m \u001b[39m# )\u001b[39;00m\n\u001b[1;32m---> <a href='vscode-notebook-cell:/c%3A/Users/emanu/OneDrive/Documenti/GitHub/Business-Cases/BC5/support.ipynb#ch0000003?line=54'>55</a>\u001b[0m fig\u001b[39m.\u001b[39;49mupdate_layout(\n\u001b[0;32m     <a href='vscode-notebook-cell:/c%3A/Users/emanu/OneDrive/Documenti/GitHub/Business-Cases/BC5/support.ipynb#ch0000003?line=55'>56</a>\u001b[0m     title \u001b[39m=\u001b[39m coin_name,\n\u001b[0;32m     <a href='vscode-notebook-cell:/c%3A/Users/emanu/OneDrive/Documenti/GitHub/Business-Cases/BC5/support.ipynb#ch0000003?line=56'>57</a>\u001b[0m     xaxis_title \u001b[39m=\u001b[39m \u001b[39m'\u001b[39m\u001b[39mDate\u001b[39m\u001b[39m'\u001b[39m,\n\u001b[0;32m     <a href='vscode-notebook-cell:/c%3A/Users/emanu/OneDrive/Documenti/GitHub/Business-Cases/BC5/support.ipynb#ch0000003?line=57'>58</a>\u001b[0m     yaxis_title \u001b[39m=\u001b[39m \u001b[39mf\u001b[39m\u001b[39m'\u001b[39m\u001b[39mClose Price\u001b[39m\u001b[39m'\u001b[39m,\n\u001b[0;32m     <a href='vscode-notebook-cell:/c%3A/Users/emanu/OneDrive/Documenti/GitHub/Business-Cases/BC5/support.ipynb#ch0000003?line=58'>59</a>\u001b[0m     paper_bgcolor\u001b[39m=\u001b[39m\u001b[39m'\u001b[39m\u001b[39mrgba(0,0,0,0)\u001b[39m\u001b[39m'\u001b[39m,\n\u001b[0;32m     <a href='vscode-notebook-cell:/c%3A/Users/emanu/OneDrive/Documenti/GitHub/Business-Cases/BC5/support.ipynb#ch0000003?line=59'>60</a>\u001b[0m     plot_bgcolor\u001b[39m=\u001b[39m\u001b[39m'\u001b[39m\u001b[39mrgba(0,0,0,0)\u001b[39m\u001b[39m'\u001b[39m\n\u001b[0;32m     <a href='vscode-notebook-cell:/c%3A/Users/emanu/OneDrive/Documenti/GitHub/Business-Cases/BC5/support.ipynb#ch0000003?line=60'>61</a>\u001b[0m )\n\u001b[0;32m     <a href='vscode-notebook-cell:/c%3A/Users/emanu/OneDrive/Documenti/GitHub/Business-Cases/BC5/support.ipynb#ch0000003?line=61'>62</a>\u001b[0m fig\u001b[39m.\u001b[39mupdate_yaxes(tickprefix\u001b[39m=\u001b[39m\u001b[39m'\u001b[39m\u001b[39m$\u001b[39m\u001b[39m'\u001b[39m)\n\u001b[0;32m     <a href='vscode-notebook-cell:/c%3A/Users/emanu/OneDrive/Documenti/GitHub/Business-Cases/BC5/support.ipynb#ch0000003?line=62'>63</a>\u001b[0m \u001b[39mreturn\u001b[39;00m fig\n",
      "\u001b[1;31mAttributeError\u001b[0m: 'Scatter' object has no attribute 'update_layout'"
     ]
    }
   ],
   "source": [
    "data_lb, leaderboard = create_leaderboard()\n",
    "print(\"1\")\n",
    "top1, top2, bot1, bot2 = get_top_bot(data_lb, leaderboard)\n",
    "print(\"2\")\n",
    "plt_coins = make_subplots(rows = 2, cols = 2, start_cell=\"bottom-left\")\n",
    "plt_coins.append_trace(top1, row = 1, col = 1)\n",
    "plt_coins.append_trace(top2, row = 1, col = 2)\n",
    "plt_coins.append_trace(bot1, row = 2, col = 1)\n",
    "plt_coins.append_trace(bot2, row = 2, col = 2)\n",
    "print(\"4\")\n",
    "plt_lb = plot_leaderboard(leaderboard)\n",
    "type(plt_coins)"
   ]
  },
  {
   "cell_type": "code",
   "execution_count": null,
   "metadata": {},
   "outputs": [
    {
     "data": {
      "application/vnd.plotly.v1+json": {
       "config": {
        "plotlyServerURL": "https://plot.ly"
       },
       "data": [
        {
         "name": "XMR-USD",
         "type": "scatter",
         "x": [
          "2022-05-20T00:00:00+00:00",
          "2022-05-20T00:15:00+00:00",
          "2022-05-20T00:30:00+00:00",
          "2022-05-20T00:45:00+00:00",
          "2022-05-20T01:00:00+00:00",
          "2022-05-20T01:15:00+00:00",
          "2022-05-20T01:30:00+00:00",
          "2022-05-20T01:45:00+00:00",
          "2022-05-20T02:00:00+00:00",
          "2022-05-20T02:15:00+00:00",
          "2022-05-20T02:30:00+00:00",
          "2022-05-20T02:45:00+00:00",
          "2022-05-20T03:00:00+00:00",
          "2022-05-20T03:15:00+00:00",
          "2022-05-20T03:30:00+00:00",
          "2022-05-20T03:45:00+00:00",
          "2022-05-20T04:00:00+00:00",
          "2022-05-20T04:15:00+00:00",
          "2022-05-20T04:30:00+00:00",
          "2022-05-20T04:45:00+00:00",
          "2022-05-20T05:00:00+00:00",
          "2022-05-20T05:15:00+00:00",
          "2022-05-20T05:30:00+00:00",
          "2022-05-20T05:45:00+00:00",
          "2022-05-20T06:00:00+00:00",
          "2022-05-20T06:15:00+00:00",
          "2022-05-20T06:30:00+00:00",
          "2022-05-20T06:45:00+00:00",
          "2022-05-20T07:00:00+00:00",
          "2022-05-20T07:15:00+00:00",
          "2022-05-20T07:30:00+00:00",
          "2022-05-20T07:45:00+00:00",
          "2022-05-20T08:00:00+00:00",
          "2022-05-20T08:15:00+00:00",
          "2022-05-20T08:30:00+00:00",
          "2022-05-20T08:45:00+00:00",
          "2022-05-20T09:00:00+00:00",
          "2022-05-20T09:15:00+00:00",
          "2022-05-20T09:30:00+00:00",
          "2022-05-20T09:45:00+00:00",
          "2022-05-20T10:00:00+00:00",
          "2022-05-20T10:15:00+00:00",
          "2022-05-20T10:30:00+00:00",
          "2022-05-20T10:45:00+00:00",
          "2022-05-20T11:00:00+00:00",
          "2022-05-20T11:15:00+00:00",
          "2022-05-20T11:30:00+00:00",
          "2022-05-20T11:45:00+00:00",
          "2022-05-20T12:00:00+00:00",
          "2022-05-20T12:15:00+00:00",
          "2022-05-20T12:30:00+00:00",
          "2022-05-20T12:45:00+00:00",
          "2022-05-20T13:00:00+00:00",
          "2022-05-20T13:15:00+00:00",
          "2022-05-20T13:30:00+00:00",
          "2022-05-20T13:45:00+00:00",
          "2022-05-20T14:00:00+00:00",
          "2022-05-20T14:15:00+00:00",
          "2022-05-20T14:30:00+00:00",
          "2022-05-20T14:45:00+00:00",
          "2022-05-20T15:00:00+00:00",
          "2022-05-20T15:15:00+00:00",
          "2022-05-20T15:30:00+00:00",
          "2022-05-20T15:45:00+00:00",
          "2022-05-20T16:00:00+00:00",
          "2022-05-20T16:15:00+00:00",
          "2022-05-20T16:30:00+00:00",
          "2022-05-20T16:45:00+00:00",
          "2022-05-20T17:00:00+00:00",
          "2022-05-20T17:15:00+00:00",
          "2022-05-20T17:30:00+00:00",
          "2022-05-20T17:45:00+00:00",
          "2022-05-20T18:00:00+00:00",
          "2022-05-20T18:15:00+00:00",
          "2022-05-20T18:30:00+00:00",
          "2022-05-20T18:45:00+00:00",
          "2022-05-20T19:00:00+00:00",
          "2022-05-20T19:15:00+00:00",
          "2022-05-20T19:30:00+00:00",
          "2022-05-20T19:45:00+00:00",
          "2022-05-20T20:00:00+00:00",
          "2022-05-20T20:15:00+00:00",
          "2022-05-20T20:30:00+00:00",
          "2022-05-20T20:45:00+00:00",
          "2022-05-20T21:00:00+00:00",
          "2022-05-20T21:15:00+00:00",
          "2022-05-20T21:30:00+00:00",
          "2022-05-20T21:45:00+00:00",
          "2022-05-20T22:00:00+00:00",
          "2022-05-20T22:15:00+00:00",
          "2022-05-20T22:30:00+00:00",
          "2022-05-20T22:45:00+00:00",
          "2022-05-20T23:00:00+00:00",
          "2022-05-20T23:15:00+00:00",
          "2022-05-20T23:30:00+00:00",
          "2022-05-20T23:45:00+00:00",
          "2022-05-21T00:00:00+00:00",
          "2022-05-21T00:15:00+00:00",
          "2022-05-21T00:30:00+00:00",
          "2022-05-21T00:45:00+00:00",
          "2022-05-21T01:00:00+00:00",
          "2022-05-21T01:15:00+00:00",
          "2022-05-21T01:30:00+00:00",
          "2022-05-21T01:45:00+00:00",
          "2022-05-21T02:00:00+00:00",
          "2022-05-21T02:15:00+00:00",
          "2022-05-21T02:30:00+00:00",
          "2022-05-21T02:45:00+00:00",
          "2022-05-21T03:00:00+00:00",
          "2022-05-21T03:15:00+00:00",
          "2022-05-21T03:30:00+00:00",
          "2022-05-21T03:45:00+00:00",
          "2022-05-21T04:00:00+00:00",
          "2022-05-21T04:15:00+00:00",
          "2022-05-21T04:30:00+00:00",
          "2022-05-21T04:45:00+00:00",
          "2022-05-21T05:00:00+00:00",
          "2022-05-21T05:15:00+00:00",
          "2022-05-21T05:30:00+00:00",
          "2022-05-21T05:45:00+00:00",
          "2022-05-21T06:00:00+00:00",
          "2022-05-21T06:15:00+00:00",
          "2022-05-21T06:30:00+00:00",
          "2022-05-21T06:45:00+00:00",
          "2022-05-21T07:00:00+00:00",
          "2022-05-21T07:15:00+00:00",
          "2022-05-21T07:30:00+00:00",
          "2022-05-21T07:45:00+00:00",
          "2022-05-21T08:00:00+00:00",
          "2022-05-21T08:15:00+00:00",
          "2022-05-21T08:30:00+00:00",
          "2022-05-21T08:45:00+00:00",
          "2022-05-21T09:00:00+00:00",
          "2022-05-21T09:15:00+00:00",
          "2022-05-21T09:30:00+00:00",
          "2022-05-21T09:45:00+00:00",
          "2022-05-21T10:00:00+00:00",
          "2022-05-21T10:15:00+00:00",
          "2022-05-21T10:30:00+00:00",
          "2022-05-21T10:45:00+00:00",
          "2022-05-21T11:00:00+00:00",
          "2022-05-21T11:15:00+00:00",
          "2022-05-21T11:30:00+00:00",
          "2022-05-21T11:45:00+00:00",
          "2022-05-21T12:00:00+00:00",
          "2022-05-21T12:15:00+00:00",
          "2022-05-21T12:30:00+00:00",
          "2022-05-21T12:45:00+00:00",
          "2022-05-21T13:00:00+00:00",
          "2022-05-21T13:15:00+00:00",
          "2022-05-21T13:30:00+00:00",
          "2022-05-21T13:45:00+00:00",
          "2022-05-21T14:00:00+00:00",
          "2022-05-21T14:15:00+00:00",
          "2022-05-21T14:30:00+00:00",
          "2022-05-21T14:45:00+00:00",
          "2022-05-21T15:00:00+00:00",
          "2022-05-21T15:15:00+00:00",
          "2022-05-21T15:30:00+00:00",
          "2022-05-21T15:45:00+00:00",
          "2022-05-21T16:00:00+00:00",
          "2022-05-21T16:15:00+00:00",
          "2022-05-21T16:30:00+00:00",
          "2022-05-21T16:45:00+00:00",
          "2022-05-21T17:00:00+00:00",
          "2022-05-21T17:15:00+00:00",
          "2022-05-21T17:30:00+00:00",
          "2022-05-21T17:45:00+00:00",
          "2022-05-21T18:00:00+00:00",
          "2022-05-21T18:15:00+00:00",
          "2022-05-21T18:30:00+00:00",
          "2022-05-21T18:45:00+00:00",
          "2022-05-21T19:00:00+00:00",
          "2022-05-21T19:15:00+00:00",
          "2022-05-21T19:28:00+00:00",
          "2022-05-21T19:29:00+00:00"
         ],
         "xaxis": "x",
         "y": [
          165.33888244628906,
          164.51852416992188,
          165.4952850341797,
          166.35891723632812,
          165.94732666015625,
          166.87733459472656,
          168.41921997070312,
          167.60467529296875,
          167.3448944091797,
          167.16134643554688,
          167.82620239257812,
          167.09165954589844,
          166.3970489501953,
          166.08731079101562,
          165.67343139648438,
          165.87660217285156,
          167.08251953125,
          165.8316650390625,
          164.45738220214844,
          164.06480407714844,
          164.65090942382812,
          165.55746459960938,
          167.3000946044922,
          168.3837127685547,
          168.20504760742188,
          167.8033447265625,
          169.3681182861328,
          168.88792419433594,
          172.6811065673828,
          173.61660766601562,
          175.84593200683594,
          174.2222900390625,
          173.7857666015625,
          173.6056671142578,
          173.63204956054688,
          172.45291137695312,
          173.2569122314453,
          175.3091583251953,
          176.98426818847656,
          177.84906005859375,
          178.70916748046875,
          177.2519073486328,
          177.49411010742188,
          176.5069580078125,
          177.1455078125,
          176.3705596923828,
          177.53421020507812,
          178.01998901367188,
          177.52308654785156,
          176.30584716796875,
          176.0922088623047,
          175.5743408203125,
          176.325927734375,
          175.9073944091797,
          174.63668823242188,
          175.95767211914062,
          174.70094299316406,
          173.669189453125,
          171.5291748046875,
          171.87559509277344,
          171.32691955566406,
          171.270263671875,
          170.60531616210938,
          169.60723876953125,
          168.00035095214844,
          166.06024169921875,
          164.9608154296875,
          165.93499755859375,
          165.24794006347656,
          167.04312133789062,
          168.0661163330078,
          168.88429260253906,
          167.5941925048828,
          168.51731872558594,
          171.1044464111328,
          172.882568359375,
          172.35208129882812,
          172.1243896484375,
          176.00738525390625,
          178.28744506835938,
          178.177978515625,
          179.99691772460938,
          178.4881591796875,
          176.76025390625,
          175.5656280517578,
          175.75685119628906,
          175.60316467285156,
          175.8720245361328,
          175.92562866210938,
          175.951904296875,
          176.80140686035156,
          175.61448669433594,
          175.9001922607422,
          176.08636474609375,
          174.97816467285156,
          174.31114196777344,
          174.50177001953125,
          173.10824584960938,
          173.83139038085938,
          175.30032348632812,
          174.37728881835938,
          172.365478515625,
          172.04290771484375,
          172.80435180664062,
          171.53057861328125,
          172.10720825195312,
          172.41600036621094,
          171.87525939941406,
          171.49606323242188,
          171.266845703125,
          171.99961853027344,
          174.0373992919922,
          173.6262969970703,
          172.7296600341797,
          172.90765380859375,
          172.56454467773438,
          172.658935546875,
          171.51174926757812,
          171.48764038085938,
          171.60520935058594,
          171.62667846679688,
          171.638916015625,
          171.7073516845703,
          171.7333984375,
          171.06698608398438,
          172.16844177246094,
          172.8763885498047,
          173.19125366210938,
          173.22377014160156,
          173.5303497314453,
          173.95652770996094,
          174.64073181152344,
          174.49786376953125,
          174.97265625,
          175.2646484375,
          175.0827178955078,
          174.94894409179688,
          174.04225158691406,
          173.41567993164062,
          173.5545196533203,
          173.49627685546875,
          173.81468200683594,
          173.92422485351562,
          174.61053466796875,
          175.1833953857422,
          174.42730712890625,
          175.32301330566406,
          175.1303253173828,
          174.89085388183594,
          175.81085205078125,
          176.6437225341797,
          176.61740112304688,
          176.81727600097656,
          176.3707275390625,
          177.8775634765625,
          179.05062866210938,
          178.40708923339844,
          177.70046997070312,
          178.10731506347656,
          177.9163818359375,
          178.1160125732422,
          176.66444396972656,
          176.69117736816406,
          176.95130920410156,
          177.139892578125,
          177.70950317382812,
          177.48397827148438,
          178.1492156982422,
          178.7818603515625,
          178.5731658935547,
          178.1310577392578,
          178.7604522705078,
          178.68646240234375,
          178.29800415039062,
          null,
          178.36492919921875
         ],
         "yaxis": "y"
        },
        {
         "name": "PAXG-USD",
         "type": "scatter",
         "x": [
          "2022-05-20T00:00:00+00:00",
          "2022-05-20T00:15:00+00:00",
          "2022-05-20T00:30:00+00:00",
          "2022-05-20T00:45:00+00:00",
          "2022-05-20T01:00:00+00:00",
          "2022-05-20T01:15:00+00:00",
          "2022-05-20T01:30:00+00:00",
          "2022-05-20T01:45:00+00:00",
          "2022-05-20T02:00:00+00:00",
          "2022-05-20T02:15:00+00:00",
          "2022-05-20T02:30:00+00:00",
          "2022-05-20T02:45:00+00:00",
          "2022-05-20T03:00:00+00:00",
          "2022-05-20T03:15:00+00:00",
          "2022-05-20T03:30:00+00:00",
          "2022-05-20T03:45:00+00:00",
          "2022-05-20T04:00:00+00:00",
          "2022-05-20T04:15:00+00:00",
          "2022-05-20T04:30:00+00:00",
          "2022-05-20T04:45:00+00:00",
          "2022-05-20T05:00:00+00:00",
          "2022-05-20T05:15:00+00:00",
          "2022-05-20T05:30:00+00:00",
          "2022-05-20T05:45:00+00:00",
          "2022-05-20T06:00:00+00:00",
          "2022-05-20T06:15:00+00:00",
          "2022-05-20T06:30:00+00:00",
          "2022-05-20T06:45:00+00:00",
          "2022-05-20T07:00:00+00:00",
          "2022-05-20T07:15:00+00:00",
          "2022-05-20T07:30:00+00:00",
          "2022-05-20T07:45:00+00:00",
          "2022-05-20T08:00:00+00:00",
          "2022-05-20T08:15:00+00:00",
          "2022-05-20T08:30:00+00:00",
          "2022-05-20T08:45:00+00:00",
          "2022-05-20T09:00:00+00:00",
          "2022-05-20T09:15:00+00:00",
          "2022-05-20T09:30:00+00:00",
          "2022-05-20T09:45:00+00:00",
          "2022-05-20T10:00:00+00:00",
          "2022-05-20T10:15:00+00:00",
          "2022-05-20T10:30:00+00:00",
          "2022-05-20T10:45:00+00:00",
          "2022-05-20T11:00:00+00:00",
          "2022-05-20T11:15:00+00:00",
          "2022-05-20T11:30:00+00:00",
          "2022-05-20T11:45:00+00:00",
          "2022-05-20T12:00:00+00:00",
          "2022-05-20T12:15:00+00:00",
          "2022-05-20T12:30:00+00:00",
          "2022-05-20T12:45:00+00:00",
          "2022-05-20T13:00:00+00:00",
          "2022-05-20T13:15:00+00:00",
          "2022-05-20T13:30:00+00:00",
          "2022-05-20T13:45:00+00:00",
          "2022-05-20T14:00:00+00:00",
          "2022-05-20T14:15:00+00:00",
          "2022-05-20T14:30:00+00:00",
          "2022-05-20T14:45:00+00:00",
          "2022-05-20T15:00:00+00:00",
          "2022-05-20T15:15:00+00:00",
          "2022-05-20T15:30:00+00:00",
          "2022-05-20T15:45:00+00:00",
          "2022-05-20T16:00:00+00:00",
          "2022-05-20T16:15:00+00:00",
          "2022-05-20T16:30:00+00:00",
          "2022-05-20T16:45:00+00:00",
          "2022-05-20T17:00:00+00:00",
          "2022-05-20T17:15:00+00:00",
          "2022-05-20T17:30:00+00:00",
          "2022-05-20T17:45:00+00:00",
          "2022-05-20T18:00:00+00:00",
          "2022-05-20T18:15:00+00:00",
          "2022-05-20T18:30:00+00:00",
          "2022-05-20T18:45:00+00:00",
          "2022-05-20T19:00:00+00:00",
          "2022-05-20T19:15:00+00:00",
          "2022-05-20T19:30:00+00:00",
          "2022-05-20T19:45:00+00:00",
          "2022-05-20T20:00:00+00:00",
          "2022-05-20T20:15:00+00:00",
          "2022-05-20T20:30:00+00:00",
          "2022-05-20T20:45:00+00:00",
          "2022-05-20T21:00:00+00:00",
          "2022-05-20T21:15:00+00:00",
          "2022-05-20T21:30:00+00:00",
          "2022-05-20T21:45:00+00:00",
          "2022-05-20T22:00:00+00:00",
          "2022-05-20T22:15:00+00:00",
          "2022-05-20T22:30:00+00:00",
          "2022-05-20T22:45:00+00:00",
          "2022-05-20T23:00:00+00:00",
          "2022-05-20T23:15:00+00:00",
          "2022-05-20T23:30:00+00:00",
          "2022-05-20T23:45:00+00:00",
          "2022-05-21T00:00:00+00:00",
          "2022-05-21T00:15:00+00:00",
          "2022-05-21T00:30:00+00:00",
          "2022-05-21T00:45:00+00:00",
          "2022-05-21T01:00:00+00:00",
          "2022-05-21T01:15:00+00:00",
          "2022-05-21T01:30:00+00:00",
          "2022-05-21T01:45:00+00:00",
          "2022-05-21T02:00:00+00:00",
          "2022-05-21T02:15:00+00:00",
          "2022-05-21T02:30:00+00:00",
          "2022-05-21T02:45:00+00:00",
          "2022-05-21T03:00:00+00:00",
          "2022-05-21T03:15:00+00:00",
          "2022-05-21T03:30:00+00:00",
          "2022-05-21T03:45:00+00:00",
          "2022-05-21T04:00:00+00:00",
          "2022-05-21T04:15:00+00:00",
          "2022-05-21T04:30:00+00:00",
          "2022-05-21T04:45:00+00:00",
          "2022-05-21T05:00:00+00:00",
          "2022-05-21T05:15:00+00:00",
          "2022-05-21T05:30:00+00:00",
          "2022-05-21T05:45:00+00:00",
          "2022-05-21T06:00:00+00:00",
          "2022-05-21T06:15:00+00:00",
          "2022-05-21T06:30:00+00:00",
          "2022-05-21T06:45:00+00:00",
          "2022-05-21T07:00:00+00:00",
          "2022-05-21T07:15:00+00:00",
          "2022-05-21T07:30:00+00:00",
          "2022-05-21T07:45:00+00:00",
          "2022-05-21T08:00:00+00:00",
          "2022-05-21T08:15:00+00:00",
          "2022-05-21T08:30:00+00:00",
          "2022-05-21T08:45:00+00:00",
          "2022-05-21T09:00:00+00:00",
          "2022-05-21T09:15:00+00:00",
          "2022-05-21T09:30:00+00:00",
          "2022-05-21T09:45:00+00:00",
          "2022-05-21T10:00:00+00:00",
          "2022-05-21T10:15:00+00:00",
          "2022-05-21T10:30:00+00:00",
          "2022-05-21T10:45:00+00:00",
          "2022-05-21T11:00:00+00:00",
          "2022-05-21T11:15:00+00:00",
          "2022-05-21T11:30:00+00:00",
          "2022-05-21T11:45:00+00:00",
          "2022-05-21T12:00:00+00:00",
          "2022-05-21T12:15:00+00:00",
          "2022-05-21T12:30:00+00:00",
          "2022-05-21T12:45:00+00:00",
          "2022-05-21T13:00:00+00:00",
          "2022-05-21T13:15:00+00:00",
          "2022-05-21T13:30:00+00:00",
          "2022-05-21T13:45:00+00:00",
          "2022-05-21T14:00:00+00:00",
          "2022-05-21T14:15:00+00:00",
          "2022-05-21T14:30:00+00:00",
          "2022-05-21T14:45:00+00:00",
          "2022-05-21T15:00:00+00:00",
          "2022-05-21T15:15:00+00:00",
          "2022-05-21T15:30:00+00:00",
          "2022-05-21T15:45:00+00:00",
          "2022-05-21T16:00:00+00:00",
          "2022-05-21T16:15:00+00:00",
          "2022-05-21T16:30:00+00:00",
          "2022-05-21T16:45:00+00:00",
          "2022-05-21T17:00:00+00:00",
          "2022-05-21T17:15:00+00:00",
          "2022-05-21T17:30:00+00:00",
          "2022-05-21T17:45:00+00:00",
          "2022-05-21T18:00:00+00:00",
          "2022-05-21T18:15:00+00:00",
          "2022-05-21T18:30:00+00:00",
          "2022-05-21T18:45:00+00:00",
          "2022-05-21T19:00:00+00:00",
          "2022-05-21T19:15:00+00:00",
          "2022-05-21T19:28:00+00:00",
          "2022-05-21T19:29:00+00:00"
         ],
         "xaxis": "x2",
         "y": [
          1851.590087890625,
          1850.096435546875,
          1852.190673828125,
          1851.2808837890625,
          1848.839111328125,
          1849.3004150390625,
          1848.5794677734375,
          1845.998779296875,
          1843.900146484375,
          1844.007568359375,
          1845.2071533203125,
          1845.296142578125,
          1844.5579833984375,
          1844.6182861328125,
          1844.833984375,
          1845.6943359375,
          1846.6470947265625,
          1846.840576171875,
          1846.20751953125,
          1846.746337890625,
          1845.5111083984375,
          1848.4288330078125,
          1848.1182861328125,
          1850.1448974609375,
          1849.9381103515625,
          1849.2327880859375,
          1850.485595703125,
          1850.7916259765625,
          1850.81787109375,
          1850.5118408203125,
          1847.7388916015625,
          1847.9254150390625,
          1848.6949462890625,
          1849.143798828125,
          1849.87109375,
          1849.8056640625,
          1849.620361328125,
          1849.0419921875,
          1849.1688232421875,
          1849.365234375,
          1850.0498046875,
          1849.8858642578125,
          1849.8084716796875,
          1850.55419921875,
          1851.4024658203125,
          1850.0693359375,
          1848.6376953125,
          1848.8985595703125,
          1845.9224853515625,
          1848.35986328125,
          1847.552001953125,
          1844.037841796875,
          1844.46240234375,
          1846.3282470703125,
          1846.603759765625,
          1845.607421875,
          1841.9287109375,
          1841.5682373046875,
          1840.887451171875,
          1841.5894775390625,
          1848.0892333984375,
          1850.2822265625,
          1848.88232421875,
          1850.2733154296875,
          1846.4873046875,
          1846.318115234375,
          1847.753662109375,
          1846.82373046875,
          1847.444091796875,
          1847.34375,
          1848.9879150390625,
          1850.048095703125,
          1849.38916015625,
          1849.27734375,
          1848.1455078125,
          1849.1568603515625,
          1851.5518798828125,
          1852.65087890625,
          1854.58935546875,
          1853.426025390625,
          1852.9913330078125,
          1852.0640869140625,
          1851.8037109375,
          1852.6849365234375,
          1852.5782470703125,
          1853.0318603515625,
          1851.602783203125,
          1851.9287109375,
          1852.8389892578125,
          1853.250244140625,
          1853.0369873046875,
          1852.954345703125,
          1853.8243408203125,
          1854.44482421875,
          1853.699462890625,
          1852.826171875,
          1852.9073486328125,
          1853.340087890625,
          1852.27587890625,
          1851.787841796875,
          1851.5938720703125,
          1851.284912109375,
          1852.5601806640625,
          1852.8231201171875,
          1852.8359375,
          1853.5174560546875,
          1855.3486328125,
          1854.24951171875,
          1854.359130859375,
          1851.691650390625,
          1853.0230712890625,
          1854.0838623046875,
          1854.768798828125,
          1854.1351318359375,
          1854.6888427734375,
          1853.69091796875,
          1852.77392578125,
          1852.270751953125,
          1852.7987060546875,
          1853.410888671875,
          1853.0909423828125,
          1853.181640625,
          1854.5966796875,
          1854.7374267578125,
          1854.0799560546875,
          1855.5703125,
          1854.543701171875,
          1855.0562744140625,
          1855.04345703125,
          1854.0703125,
          1854.48583984375,
          1853.97412109375,
          1853.73095703125,
          1853.2315673828125,
          1855.3084716796875,
          1854.9774169921875,
          1854.65673828125,
          1854.9854736328125,
          1854.1961669921875,
          1854.7698974609375,
          1853.4027099609375,
          1853.6597900390625,
          1853.6304931640625,
          1854.217529296875,
          1854.187255859375,
          1854.3172607421875,
          1854.6474609375,
          1854.32177734375,
          1853.2947998046875,
          1854.2509765625,
          1855.00244140625,
          1853.8707275390625,
          1854.141845703125,
          1853.805908203125,
          1854.9002685546875,
          1854.4498291015625,
          1854.076904296875,
          1854.1529541015625,
          1854.8353271484375,
          1856.345458984375,
          1854.86865234375,
          1854.93798828125,
          1853.3634033203125,
          1855.361572265625,
          1853.8150634765625,
          1855.1912841796875,
          1853.8416748046875,
          1853.7528076171875,
          1854.052978515625,
          1854.5927734375,
          1853.4349365234375,
          1853.955810546875,
          1853.67529296875,
          1854.13427734375,
          null,
          1853.6912841796875
         ],
         "yaxis": "y2"
        },
        {
         "name": "FLOW-USD",
         "type": "scatter",
         "x": [
          "2022-05-20T00:00:00+00:00",
          "2022-05-20T00:15:00+00:00",
          "2022-05-20T00:30:00+00:00",
          "2022-05-20T00:45:00+00:00",
          "2022-05-20T01:00:00+00:00",
          "2022-05-20T01:15:00+00:00",
          "2022-05-20T01:30:00+00:00",
          "2022-05-20T01:45:00+00:00",
          "2022-05-20T02:00:00+00:00",
          "2022-05-20T02:15:00+00:00",
          "2022-05-20T02:30:00+00:00",
          "2022-05-20T02:45:00+00:00",
          "2022-05-20T03:00:00+00:00",
          "2022-05-20T03:15:00+00:00",
          "2022-05-20T03:30:00+00:00",
          "2022-05-20T03:45:00+00:00",
          "2022-05-20T04:00:00+00:00",
          "2022-05-20T04:15:00+00:00",
          "2022-05-20T04:30:00+00:00",
          "2022-05-20T04:45:00+00:00",
          "2022-05-20T05:00:00+00:00",
          "2022-05-20T05:15:00+00:00",
          "2022-05-20T05:30:00+00:00",
          "2022-05-20T05:45:00+00:00",
          "2022-05-20T06:00:00+00:00",
          "2022-05-20T06:15:00+00:00",
          "2022-05-20T06:30:00+00:00",
          "2022-05-20T06:45:00+00:00",
          "2022-05-20T07:00:00+00:00",
          "2022-05-20T07:15:00+00:00",
          "2022-05-20T07:30:00+00:00",
          "2022-05-20T07:45:00+00:00",
          "2022-05-20T08:00:00+00:00",
          "2022-05-20T08:15:00+00:00",
          "2022-05-20T08:30:00+00:00",
          "2022-05-20T08:45:00+00:00",
          "2022-05-20T09:00:00+00:00",
          "2022-05-20T09:15:00+00:00",
          "2022-05-20T09:30:00+00:00",
          "2022-05-20T09:45:00+00:00",
          "2022-05-20T10:00:00+00:00",
          "2022-05-20T10:15:00+00:00",
          "2022-05-20T10:30:00+00:00",
          "2022-05-20T10:45:00+00:00",
          "2022-05-20T11:00:00+00:00",
          "2022-05-20T11:15:00+00:00",
          "2022-05-20T11:30:00+00:00",
          "2022-05-20T11:45:00+00:00",
          "2022-05-20T12:00:00+00:00",
          "2022-05-20T12:15:00+00:00",
          "2022-05-20T12:30:00+00:00",
          "2022-05-20T12:45:00+00:00",
          "2022-05-20T13:00:00+00:00",
          "2022-05-20T13:15:00+00:00",
          "2022-05-20T13:30:00+00:00",
          "2022-05-20T13:45:00+00:00",
          "2022-05-20T14:00:00+00:00",
          "2022-05-20T14:15:00+00:00",
          "2022-05-20T14:30:00+00:00",
          "2022-05-20T14:45:00+00:00",
          "2022-05-20T15:00:00+00:00",
          "2022-05-20T15:15:00+00:00",
          "2022-05-20T15:30:00+00:00",
          "2022-05-20T15:45:00+00:00",
          "2022-05-20T16:00:00+00:00",
          "2022-05-20T16:15:00+00:00",
          "2022-05-20T16:30:00+00:00",
          "2022-05-20T16:45:00+00:00",
          "2022-05-20T17:00:00+00:00",
          "2022-05-20T17:15:00+00:00",
          "2022-05-20T17:30:00+00:00",
          "2022-05-20T17:45:00+00:00",
          "2022-05-20T18:00:00+00:00",
          "2022-05-20T18:15:00+00:00",
          "2022-05-20T18:30:00+00:00",
          "2022-05-20T18:45:00+00:00",
          "2022-05-20T19:00:00+00:00",
          "2022-05-20T19:15:00+00:00",
          "2022-05-20T19:30:00+00:00",
          "2022-05-20T19:45:00+00:00",
          "2022-05-20T20:00:00+00:00",
          "2022-05-20T20:15:00+00:00",
          "2022-05-20T20:30:00+00:00",
          "2022-05-20T20:45:00+00:00",
          "2022-05-20T21:00:00+00:00",
          "2022-05-20T21:15:00+00:00",
          "2022-05-20T21:30:00+00:00",
          "2022-05-20T21:45:00+00:00",
          "2022-05-20T22:00:00+00:00",
          "2022-05-20T22:15:00+00:00",
          "2022-05-20T22:30:00+00:00",
          "2022-05-20T22:45:00+00:00",
          "2022-05-20T23:00:00+00:00",
          "2022-05-20T23:15:00+00:00",
          "2022-05-20T23:30:00+00:00",
          "2022-05-20T23:45:00+00:00",
          "2022-05-21T00:00:00+00:00",
          "2022-05-21T00:15:00+00:00",
          "2022-05-21T00:30:00+00:00",
          "2022-05-21T00:45:00+00:00",
          "2022-05-21T01:00:00+00:00",
          "2022-05-21T01:15:00+00:00",
          "2022-05-21T01:30:00+00:00",
          "2022-05-21T01:45:00+00:00",
          "2022-05-21T02:00:00+00:00",
          "2022-05-21T02:15:00+00:00",
          "2022-05-21T02:30:00+00:00",
          "2022-05-21T02:45:00+00:00",
          "2022-05-21T03:00:00+00:00",
          "2022-05-21T03:15:00+00:00",
          "2022-05-21T03:30:00+00:00",
          "2022-05-21T03:45:00+00:00",
          "2022-05-21T04:00:00+00:00",
          "2022-05-21T04:15:00+00:00",
          "2022-05-21T04:30:00+00:00",
          "2022-05-21T04:45:00+00:00",
          "2022-05-21T05:00:00+00:00",
          "2022-05-21T05:15:00+00:00",
          "2022-05-21T05:30:00+00:00",
          "2022-05-21T05:45:00+00:00",
          "2022-05-21T06:00:00+00:00",
          "2022-05-21T06:15:00+00:00",
          "2022-05-21T06:30:00+00:00",
          "2022-05-21T06:45:00+00:00",
          "2022-05-21T07:00:00+00:00",
          "2022-05-21T07:15:00+00:00",
          "2022-05-21T07:30:00+00:00",
          "2022-05-21T07:45:00+00:00",
          "2022-05-21T08:00:00+00:00",
          "2022-05-21T08:15:00+00:00",
          "2022-05-21T08:30:00+00:00",
          "2022-05-21T08:45:00+00:00",
          "2022-05-21T09:00:00+00:00",
          "2022-05-21T09:15:00+00:00",
          "2022-05-21T09:30:00+00:00",
          "2022-05-21T09:45:00+00:00",
          "2022-05-21T10:00:00+00:00",
          "2022-05-21T10:15:00+00:00",
          "2022-05-21T10:30:00+00:00",
          "2022-05-21T10:45:00+00:00",
          "2022-05-21T11:00:00+00:00",
          "2022-05-21T11:15:00+00:00",
          "2022-05-21T11:30:00+00:00",
          "2022-05-21T11:45:00+00:00",
          "2022-05-21T12:00:00+00:00",
          "2022-05-21T12:15:00+00:00",
          "2022-05-21T12:30:00+00:00",
          "2022-05-21T12:45:00+00:00",
          "2022-05-21T13:00:00+00:00",
          "2022-05-21T13:15:00+00:00",
          "2022-05-21T13:30:00+00:00",
          "2022-05-21T13:45:00+00:00",
          "2022-05-21T14:00:00+00:00",
          "2022-05-21T14:15:00+00:00",
          "2022-05-21T14:30:00+00:00",
          "2022-05-21T14:45:00+00:00",
          "2022-05-21T15:00:00+00:00",
          "2022-05-21T15:15:00+00:00",
          "2022-05-21T15:30:00+00:00",
          "2022-05-21T15:45:00+00:00",
          "2022-05-21T16:00:00+00:00",
          "2022-05-21T16:15:00+00:00",
          "2022-05-21T16:30:00+00:00",
          "2022-05-21T16:45:00+00:00",
          "2022-05-21T17:00:00+00:00",
          "2022-05-21T17:15:00+00:00",
          "2022-05-21T17:30:00+00:00",
          "2022-05-21T17:45:00+00:00",
          "2022-05-21T18:00:00+00:00",
          "2022-05-21T18:15:00+00:00",
          "2022-05-21T18:30:00+00:00",
          "2022-05-21T18:45:00+00:00",
          "2022-05-21T19:00:00+00:00",
          "2022-05-21T19:15:00+00:00",
          "2022-05-21T19:28:00+00:00",
          "2022-05-21T19:29:00+00:00"
         ],
         "xaxis": "x3",
         "y": [
          2.9224050045013428,
          2.8902127742767334,
          2.9155611991882324,
          2.9211742877960205,
          2.927126169204712,
          2.948432683944702,
          2.978287696838379,
          2.9502575397491455,
          2.9317049980163574,
          2.9194626808166504,
          2.94293475151062,
          2.9265432357788086,
          2.914114475250244,
          2.9052650928497314,
          2.9033522605895996,
          2.902820110321045,
          2.921008586883545,
          2.9012131690979004,
          2.9003970623016357,
          2.8774023056030273,
          2.878777265548706,
          2.881021499633789,
          2.878147840499878,
          2.8944106101989746,
          2.892085075378418,
          2.868462085723877,
          2.8621575832366943,
          2.846923828125,
          2.8661603927612305,
          2.867161989212036,
          2.88185715675354,
          2.889394998550415,
          2.883885145187378,
          2.888688564300537,
          2.9080305099487305,
          2.8960189819335938,
          2.888592481613159,
          2.8985514640808105,
          2.918062925338745,
          2.9331612586975098,
          2.9371471405029297,
          2.938246726989746,
          2.9330053329467773,
          2.9338884353637695,
          2.9414544105529785,
          2.922872543334961,
          2.9450936317443848,
          2.9557855129241943,
          2.9450817108154297,
          2.931950807571411,
          2.914123058319092,
          2.8910133838653564,
          2.8932480812072754,
          2.921722173690796,
          2.8885581493377686,
          2.89346981048584,
          2.859783172607422,
          2.8377928733825684,
          2.8246679306030273,
          2.804065227508545,
          2.772468328475952,
          2.7658848762512207,
          2.748520612716675,
          2.735293388366699,
          2.7255911827087402,
          2.7224812507629395,
          2.707833766937256,
          2.7133588790893555,
          2.7159035205841064,
          2.7020771503448486,
          2.7146546840667725,
          2.7213144302368164,
          2.705723285675049,
          2.7021484375,
          2.703813076019287,
          2.713374137878418,
          2.723132610321045,
          2.717846393585205,
          2.739748954772949,
          2.7723755836486816,
          2.766382932662964,
          2.782184362411499,
          2.7664923667907715,
          2.7639715671539307,
          2.786059856414795,
          2.784203290939331,
          2.769584894180298,
          2.7669219970703125,
          2.7742462158203125,
          2.7897703647613525,
          2.7904341220855713,
          2.7678868770599365,
          2.785645008087158,
          2.7888081073760986,
          2.7835092544555664,
          2.7687530517578125,
          2.776945114135742,
          2.7878708839416504,
          2.7613046169281006,
          2.7592902183532715,
          2.733186960220337,
          2.733633518218994,
          2.7125794887542725,
          2.724792242050171,
          2.722766399383545,
          2.7373101711273193,
          2.7571513652801514,
          2.7485437393188477,
          2.7469303607940674,
          2.731595993041992,
          2.7320094108581543,
          2.7544474601745605,
          2.754176378250122,
          2.746415138244629,
          2.7460713386535645,
          2.7456274032592773,
          2.743199586868286,
          2.729555130004883,
          2.7403957843780518,
          2.7367587089538574,
          2.7387304306030273,
          2.750356674194336,
          2.753175735473633,
          2.7507946491241455,
          2.745596408843994,
          2.7574245929718018,
          2.776487350463867,
          2.7690017223358154,
          2.7697296142578125,
          2.759124279022217,
          2.76354718208313,
          2.746701717376709,
          2.7447288036346436,
          2.747267723083496,
          2.7445085048675537,
          2.756742238998413,
          2.766130208969116,
          2.761395215988159,
          2.756159782409668,
          2.7584731578826904,
          2.747844934463501,
          2.7444896697998047,
          2.734266996383667,
          2.7470521926879883,
          2.760737180709839,
          2.748645544052124,
          2.743936777114868,
          2.7468676567077637,
          2.7499680519104004,
          2.7532460689544678,
          2.7623062133789062,
          2.7565836906433105,
          2.755387783050537,
          2.7546257972717285,
          2.7642524242401123,
          2.767817735671997,
          2.763728141784668,
          2.7635409832000732,
          2.7735464572906494,
          2.7872276306152344,
          2.804330825805664,
          2.78483247756958,
          2.774247646331787,
          2.783579111099243,
          2.7827577590942383,
          2.7722482681274414,
          2.8142752647399902,
          2.813561201095581,
          2.8150994777679443,
          2.8312718868255615,
          2.828460693359375,
          2.8284988403320312,
          2.8311736583709717,
          2.8217713832855225,
          null,
          2.813687801361084
         ],
         "yaxis": "y3"
        },
        {
         "name": "LUNA1-USD",
         "type": "scatter",
         "x": [
          "2022-05-20T00:00:00+00:00",
          "2022-05-20T00:15:00+00:00",
          "2022-05-20T00:30:00+00:00",
          "2022-05-20T00:45:00+00:00",
          "2022-05-20T01:00:00+00:00",
          "2022-05-20T01:15:00+00:00",
          "2022-05-20T01:30:00+00:00",
          "2022-05-20T01:45:00+00:00",
          "2022-05-20T02:00:00+00:00",
          "2022-05-20T02:15:00+00:00",
          "2022-05-20T02:30:00+00:00",
          "2022-05-20T02:45:00+00:00",
          "2022-05-20T03:00:00+00:00",
          "2022-05-20T03:15:00+00:00",
          "2022-05-20T03:30:00+00:00",
          "2022-05-20T03:45:00+00:00",
          "2022-05-20T04:00:00+00:00",
          "2022-05-20T04:15:00+00:00",
          "2022-05-20T04:30:00+00:00",
          "2022-05-20T04:45:00+00:00",
          "2022-05-20T05:00:00+00:00",
          "2022-05-20T05:15:00+00:00",
          "2022-05-20T05:30:00+00:00",
          "2022-05-20T05:45:00+00:00",
          "2022-05-20T06:00:00+00:00",
          "2022-05-20T06:15:00+00:00",
          "2022-05-20T06:30:00+00:00",
          "2022-05-20T06:45:00+00:00",
          "2022-05-20T07:00:00+00:00",
          "2022-05-20T07:15:00+00:00",
          "2022-05-20T07:30:00+00:00",
          "2022-05-20T07:45:00+00:00",
          "2022-05-20T08:00:00+00:00",
          "2022-05-20T08:15:00+00:00",
          "2022-05-20T08:30:00+00:00",
          "2022-05-20T08:45:00+00:00",
          "2022-05-20T09:00:00+00:00",
          "2022-05-20T09:15:00+00:00",
          "2022-05-20T09:30:00+00:00",
          "2022-05-20T09:45:00+00:00",
          "2022-05-20T10:00:00+00:00",
          "2022-05-20T10:15:00+00:00",
          "2022-05-20T10:30:00+00:00",
          "2022-05-20T10:45:00+00:00",
          "2022-05-20T11:00:00+00:00",
          "2022-05-20T11:15:00+00:00",
          "2022-05-20T11:30:00+00:00",
          "2022-05-20T11:45:00+00:00",
          "2022-05-20T12:00:00+00:00",
          "2022-05-20T12:15:00+00:00",
          "2022-05-20T12:30:00+00:00",
          "2022-05-20T12:45:00+00:00",
          "2022-05-20T13:00:00+00:00",
          "2022-05-20T13:15:00+00:00",
          "2022-05-20T13:30:00+00:00",
          "2022-05-20T13:45:00+00:00",
          "2022-05-20T14:00:00+00:00",
          "2022-05-20T14:15:00+00:00",
          "2022-05-20T14:30:00+00:00",
          "2022-05-20T14:45:00+00:00",
          "2022-05-20T15:00:00+00:00",
          "2022-05-20T15:15:00+00:00",
          "2022-05-20T15:30:00+00:00",
          "2022-05-20T15:45:00+00:00",
          "2022-05-20T16:00:00+00:00",
          "2022-05-20T16:15:00+00:00",
          "2022-05-20T16:30:00+00:00",
          "2022-05-20T16:45:00+00:00",
          "2022-05-20T17:00:00+00:00",
          "2022-05-20T17:15:00+00:00",
          "2022-05-20T17:30:00+00:00",
          "2022-05-20T17:45:00+00:00",
          "2022-05-20T18:00:00+00:00",
          "2022-05-20T18:15:00+00:00",
          "2022-05-20T18:30:00+00:00",
          "2022-05-20T18:45:00+00:00",
          "2022-05-20T19:00:00+00:00",
          "2022-05-20T19:15:00+00:00",
          "2022-05-20T19:30:00+00:00",
          "2022-05-20T19:45:00+00:00",
          "2022-05-20T20:00:00+00:00",
          "2022-05-20T20:15:00+00:00",
          "2022-05-20T20:30:00+00:00",
          "2022-05-20T20:45:00+00:00",
          "2022-05-20T21:00:00+00:00",
          "2022-05-20T21:15:00+00:00",
          "2022-05-20T21:30:00+00:00",
          "2022-05-20T21:45:00+00:00",
          "2022-05-20T22:00:00+00:00",
          "2022-05-20T22:15:00+00:00",
          "2022-05-20T22:30:00+00:00",
          "2022-05-20T22:45:00+00:00",
          "2022-05-20T23:00:00+00:00",
          "2022-05-20T23:15:00+00:00",
          "2022-05-20T23:30:00+00:00",
          "2022-05-20T23:45:00+00:00",
          "2022-05-21T00:00:00+00:00",
          "2022-05-21T00:15:00+00:00",
          "2022-05-21T00:30:00+00:00",
          "2022-05-21T00:45:00+00:00",
          "2022-05-21T01:00:00+00:00",
          "2022-05-21T01:15:00+00:00",
          "2022-05-21T01:30:00+00:00",
          "2022-05-21T01:45:00+00:00",
          "2022-05-21T02:00:00+00:00",
          "2022-05-21T02:15:00+00:00",
          "2022-05-21T02:30:00+00:00",
          "2022-05-21T02:45:00+00:00",
          "2022-05-21T03:00:00+00:00",
          "2022-05-21T03:15:00+00:00",
          "2022-05-21T03:30:00+00:00",
          "2022-05-21T03:45:00+00:00",
          "2022-05-21T04:00:00+00:00",
          "2022-05-21T04:15:00+00:00",
          "2022-05-21T04:30:00+00:00",
          "2022-05-21T04:45:00+00:00",
          "2022-05-21T05:00:00+00:00",
          "2022-05-21T05:15:00+00:00",
          "2022-05-21T05:30:00+00:00",
          "2022-05-21T05:45:00+00:00",
          "2022-05-21T06:00:00+00:00",
          "2022-05-21T06:15:00+00:00",
          "2022-05-21T06:30:00+00:00",
          "2022-05-21T06:45:00+00:00",
          "2022-05-21T07:00:00+00:00",
          "2022-05-21T07:15:00+00:00",
          "2022-05-21T07:30:00+00:00",
          "2022-05-21T07:45:00+00:00",
          "2022-05-21T08:00:00+00:00",
          "2022-05-21T08:15:00+00:00",
          "2022-05-21T08:30:00+00:00",
          "2022-05-21T08:45:00+00:00",
          "2022-05-21T09:00:00+00:00",
          "2022-05-21T09:15:00+00:00",
          "2022-05-21T09:30:00+00:00",
          "2022-05-21T09:45:00+00:00",
          "2022-05-21T10:00:00+00:00",
          "2022-05-21T10:15:00+00:00",
          "2022-05-21T10:30:00+00:00",
          "2022-05-21T10:45:00+00:00",
          "2022-05-21T11:00:00+00:00",
          "2022-05-21T11:15:00+00:00",
          "2022-05-21T11:30:00+00:00",
          "2022-05-21T11:45:00+00:00",
          "2022-05-21T12:00:00+00:00",
          "2022-05-21T12:15:00+00:00",
          "2022-05-21T12:30:00+00:00",
          "2022-05-21T12:45:00+00:00",
          "2022-05-21T13:00:00+00:00",
          "2022-05-21T13:15:00+00:00",
          "2022-05-21T13:30:00+00:00",
          "2022-05-21T13:45:00+00:00",
          "2022-05-21T14:00:00+00:00",
          "2022-05-21T14:15:00+00:00",
          "2022-05-21T14:30:00+00:00",
          "2022-05-21T14:45:00+00:00",
          "2022-05-21T15:00:00+00:00",
          "2022-05-21T15:15:00+00:00",
          "2022-05-21T15:30:00+00:00",
          "2022-05-21T15:45:00+00:00",
          "2022-05-21T16:00:00+00:00",
          "2022-05-21T16:15:00+00:00",
          "2022-05-21T16:30:00+00:00",
          "2022-05-21T16:45:00+00:00",
          "2022-05-21T17:00:00+00:00",
          "2022-05-21T17:15:00+00:00",
          "2022-05-21T17:30:00+00:00",
          "2022-05-21T17:45:00+00:00",
          "2022-05-21T18:00:00+00:00",
          "2022-05-21T18:15:00+00:00",
          "2022-05-21T18:30:00+00:00",
          "2022-05-21T18:45:00+00:00",
          "2022-05-21T19:00:00+00:00",
          "2022-05-21T19:15:00+00:00",
          "2022-05-21T19:28:00+00:00",
          "2022-05-21T19:29:00+00:00"
         ],
         "xaxis": "x4",
         "y": [
          0.00013522509834729135,
          0.00013548666902352124,
          0.00013489281991496682,
          0.0001353328552795574,
          0.00013429761747829616,
          0.00013647360901813954,
          0.00013605807907879353,
          0.0001385603245580569,
          0.0001394664286635816,
          0.00013825931819155812,
          0.00013766091433353722,
          0.0001397139421897009,
          0.00014036078937351704,
          0.00014302777708508074,
          0.00014404200192075223,
          0.00014225290215108544,
          0.00014165113680064678,
          0.00013999287330079824,
          0.00013902626233175397,
          0.0001387573720421642,
          0.00013851771655026823,
          0.00013835571007803082,
          0.0001365680800518021,
          0.0001373710110783577,
          0.000137736729811877,
          0.00013682259304914623,
          0.00013641091936733574,
          0.0001361639442620799,
          0.0001373920968035236,
          0.00013725626922678202,
          0.000136403672513552,
          0.00013831818068865687,
          0.00013916875468567014,
          0.0001408681127941236,
          0.00014069207827560604,
          0.00014032941544428468,
          0.0001409661053912714,
          0.00014056378859095275,
          0.00014021972310729325,
          0.0001400728797307238,
          0.00014055969950277358,
          0.00014000353985466063,
          0.00013999780640006065,
          0.00013948783453088254,
          0.00013957632472738624,
          0.00013964444224257022,
          0.00013941075303591788,
          0.00014008684956934303,
          0.000140073912916705,
          0.00014045910211279988,
          0.00013995404879096895,
          0.0001398984168190509,
          0.00013905076775699854,
          0.00013887978275306523,
          0.00014041614485904574,
          0.0001410396071150899,
          0.00014079821994528174,
          0.00013776369451079518,
          0.00013534442405216396,
          0.00013416714500635862,
          0.0001327047066297382,
          0.00013380842574406415,
          0.00013295849203132093,
          0.00013282985310070217,
          0.00013080205826554447,
          0.0001307020866079256,
          0.0001307873462792486,
          0.00013059418415650725,
          0.0001308468054048717,
          0.0001296830887440592,
          0.00012924951442983001,
          0.00013136235065758228,
          0.00012976214929949492,
          0.0001306389458477497,
          0.00012942581088282168,
          0.00013200250396039337,
          0.00013043874059803784,
          0.00013215561921242625,
          0.00013116233458276838,
          0.00013217522064223886,
          0.000134020418045111,
          0.00013382879842538387,
          0.00013319528079591691,
          0.00013276393292471766,
          0.00013109610881656408,
          0.00013289898924995214,
          0.00013201589172240347,
          0.0001311954838456586,
          0.00012828210310544819,
          0.00012840557610616088,
          0.00013140295050106943,
          0.00012833651271648705,
          0.00012998720922041684,
          0.00012806523591279984,
          0.00012685489491559565,
          0.0001229293120559305,
          0.00012071317178197205,
          0.0001203647771035321,
          0.0001150920579675585,
          0.0001110797020373866,
          0.00011412439198466018,
          0.00011434313637437299,
          0.00011249270755797625,
          0.00011296170123387128,
          0.00011397313937777653,
          0.00011389711289666593,
          0.00011285392974969,
          0.00011062352859880775,
          0.00010786305938381702,
          0.00010680460400180891,
          0.0001041127325152047,
          0.00010533320164540783,
          0.00010354415280744433,
          0.00010461529745953158,
          0.00010705005115596578,
          0.00011056305811507627,
          0.00010707395267672837,
          0.00010713877418311313,
          0.00011008665751433,
          0.00011168714263476431,
          0.00011317734606564045,
          0.00011210102093173191,
          0.00011315576557535678,
          0.00011793021985795349,
          0.00011683988122968003,
          0.00011591537622734904,
          0.0001142959445132874,
          0.00011415922199375927,
          0.00011389795690774918,
          0.00011328524851705879,
          0.00011321590864099562,
          0.00011200735752936453,
          0.0001130111122620292,
          0.0001119248554459773,
          0.0001123193433159031,
          0.00011213505786145106,
          0.00011252983676968142,
          0.00011400854418752715,
          0.0001099028013413772,
          0.00011291030386928469,
          0.00011302428902126849,
          0.00011310342961223796,
          0.00011140593414893374,
          0.00011069257743656635,
          0.00011034138879040256,
          0.00010912348079727963,
          0.00010793468391057104,
          0.0001068661586032249,
          0.00010743207531049848,
          0.00010830132669070736,
          0.00010918891348410398,
          0.00010816619760589674,
          0.00010883761569857597,
          0.00010765182378236204,
          0.00010747214400907978,
          0.00010837395529961213,
          0.0001078466884791851,
          0.0001061993243638426,
          0.00010679407569114119,
          0.00010628527525113896,
          0.00010455097071826458,
          0.00010540366929490119,
          0.00010550879233051091,
          0.00010389600356575102,
          0.00010446221131132916,
          0.00010411647235741839,
          0.00010410162940388545,
          0.00010372749238740653,
          0.00010416596342111006,
          0.00010741000733105466,
          0.00011122925934614614,
          0.00011284196079941466,
          0.00011474685743451118,
          0.0001211493436130695,
          null,
          0.0001222679711645469
         ],
         "yaxis": "y4"
        }
       ],
       "layout": {
        "template": {
         "data": {
          "bar": [
           {
            "error_x": {
             "color": "#2a3f5f"
            },
            "error_y": {
             "color": "#2a3f5f"
            },
            "marker": {
             "line": {
              "color": "#E5ECF6",
              "width": 0.5
             },
             "pattern": {
              "fillmode": "overlay",
              "size": 10,
              "solidity": 0.2
             }
            },
            "type": "bar"
           }
          ],
          "barpolar": [
           {
            "marker": {
             "line": {
              "color": "#E5ECF6",
              "width": 0.5
             },
             "pattern": {
              "fillmode": "overlay",
              "size": 10,
              "solidity": 0.2
             }
            },
            "type": "barpolar"
           }
          ],
          "carpet": [
           {
            "aaxis": {
             "endlinecolor": "#2a3f5f",
             "gridcolor": "white",
             "linecolor": "white",
             "minorgridcolor": "white",
             "startlinecolor": "#2a3f5f"
            },
            "baxis": {
             "endlinecolor": "#2a3f5f",
             "gridcolor": "white",
             "linecolor": "white",
             "minorgridcolor": "white",
             "startlinecolor": "#2a3f5f"
            },
            "type": "carpet"
           }
          ],
          "choropleth": [
           {
            "colorbar": {
             "outlinewidth": 0,
             "ticks": ""
            },
            "type": "choropleth"
           }
          ],
          "contour": [
           {
            "colorbar": {
             "outlinewidth": 0,
             "ticks": ""
            },
            "colorscale": [
             [
              0,
              "#0d0887"
             ],
             [
              0.1111111111111111,
              "#46039f"
             ],
             [
              0.2222222222222222,
              "#7201a8"
             ],
             [
              0.3333333333333333,
              "#9c179e"
             ],
             [
              0.4444444444444444,
              "#bd3786"
             ],
             [
              0.5555555555555556,
              "#d8576b"
             ],
             [
              0.6666666666666666,
              "#ed7953"
             ],
             [
              0.7777777777777778,
              "#fb9f3a"
             ],
             [
              0.8888888888888888,
              "#fdca26"
             ],
             [
              1,
              "#f0f921"
             ]
            ],
            "type": "contour"
           }
          ],
          "contourcarpet": [
           {
            "colorbar": {
             "outlinewidth": 0,
             "ticks": ""
            },
            "type": "contourcarpet"
           }
          ],
          "heatmap": [
           {
            "colorbar": {
             "outlinewidth": 0,
             "ticks": ""
            },
            "colorscale": [
             [
              0,
              "#0d0887"
             ],
             [
              0.1111111111111111,
              "#46039f"
             ],
             [
              0.2222222222222222,
              "#7201a8"
             ],
             [
              0.3333333333333333,
              "#9c179e"
             ],
             [
              0.4444444444444444,
              "#bd3786"
             ],
             [
              0.5555555555555556,
              "#d8576b"
             ],
             [
              0.6666666666666666,
              "#ed7953"
             ],
             [
              0.7777777777777778,
              "#fb9f3a"
             ],
             [
              0.8888888888888888,
              "#fdca26"
             ],
             [
              1,
              "#f0f921"
             ]
            ],
            "type": "heatmap"
           }
          ],
          "heatmapgl": [
           {
            "colorbar": {
             "outlinewidth": 0,
             "ticks": ""
            },
            "colorscale": [
             [
              0,
              "#0d0887"
             ],
             [
              0.1111111111111111,
              "#46039f"
             ],
             [
              0.2222222222222222,
              "#7201a8"
             ],
             [
              0.3333333333333333,
              "#9c179e"
             ],
             [
              0.4444444444444444,
              "#bd3786"
             ],
             [
              0.5555555555555556,
              "#d8576b"
             ],
             [
              0.6666666666666666,
              "#ed7953"
             ],
             [
              0.7777777777777778,
              "#fb9f3a"
             ],
             [
              0.8888888888888888,
              "#fdca26"
             ],
             [
              1,
              "#f0f921"
             ]
            ],
            "type": "heatmapgl"
           }
          ],
          "histogram": [
           {
            "marker": {
             "pattern": {
              "fillmode": "overlay",
              "size": 10,
              "solidity": 0.2
             }
            },
            "type": "histogram"
           }
          ],
          "histogram2d": [
           {
            "colorbar": {
             "outlinewidth": 0,
             "ticks": ""
            },
            "colorscale": [
             [
              0,
              "#0d0887"
             ],
             [
              0.1111111111111111,
              "#46039f"
             ],
             [
              0.2222222222222222,
              "#7201a8"
             ],
             [
              0.3333333333333333,
              "#9c179e"
             ],
             [
              0.4444444444444444,
              "#bd3786"
             ],
             [
              0.5555555555555556,
              "#d8576b"
             ],
             [
              0.6666666666666666,
              "#ed7953"
             ],
             [
              0.7777777777777778,
              "#fb9f3a"
             ],
             [
              0.8888888888888888,
              "#fdca26"
             ],
             [
              1,
              "#f0f921"
             ]
            ],
            "type": "histogram2d"
           }
          ],
          "histogram2dcontour": [
           {
            "colorbar": {
             "outlinewidth": 0,
             "ticks": ""
            },
            "colorscale": [
             [
              0,
              "#0d0887"
             ],
             [
              0.1111111111111111,
              "#46039f"
             ],
             [
              0.2222222222222222,
              "#7201a8"
             ],
             [
              0.3333333333333333,
              "#9c179e"
             ],
             [
              0.4444444444444444,
              "#bd3786"
             ],
             [
              0.5555555555555556,
              "#d8576b"
             ],
             [
              0.6666666666666666,
              "#ed7953"
             ],
             [
              0.7777777777777778,
              "#fb9f3a"
             ],
             [
              0.8888888888888888,
              "#fdca26"
             ],
             [
              1,
              "#f0f921"
             ]
            ],
            "type": "histogram2dcontour"
           }
          ],
          "mesh3d": [
           {
            "colorbar": {
             "outlinewidth": 0,
             "ticks": ""
            },
            "type": "mesh3d"
           }
          ],
          "parcoords": [
           {
            "line": {
             "colorbar": {
              "outlinewidth": 0,
              "ticks": ""
             }
            },
            "type": "parcoords"
           }
          ],
          "pie": [
           {
            "automargin": true,
            "type": "pie"
           }
          ],
          "scatter": [
           {
            "marker": {
             "colorbar": {
              "outlinewidth": 0,
              "ticks": ""
             }
            },
            "type": "scatter"
           }
          ],
          "scatter3d": [
           {
            "line": {
             "colorbar": {
              "outlinewidth": 0,
              "ticks": ""
             }
            },
            "marker": {
             "colorbar": {
              "outlinewidth": 0,
              "ticks": ""
             }
            },
            "type": "scatter3d"
           }
          ],
          "scattercarpet": [
           {
            "marker": {
             "colorbar": {
              "outlinewidth": 0,
              "ticks": ""
             }
            },
            "type": "scattercarpet"
           }
          ],
          "scattergeo": [
           {
            "marker": {
             "colorbar": {
              "outlinewidth": 0,
              "ticks": ""
             }
            },
            "type": "scattergeo"
           }
          ],
          "scattergl": [
           {
            "marker": {
             "colorbar": {
              "outlinewidth": 0,
              "ticks": ""
             }
            },
            "type": "scattergl"
           }
          ],
          "scattermapbox": [
           {
            "marker": {
             "colorbar": {
              "outlinewidth": 0,
              "ticks": ""
             }
            },
            "type": "scattermapbox"
           }
          ],
          "scatterpolar": [
           {
            "marker": {
             "colorbar": {
              "outlinewidth": 0,
              "ticks": ""
             }
            },
            "type": "scatterpolar"
           }
          ],
          "scatterpolargl": [
           {
            "marker": {
             "colorbar": {
              "outlinewidth": 0,
              "ticks": ""
             }
            },
            "type": "scatterpolargl"
           }
          ],
          "scatterternary": [
           {
            "marker": {
             "colorbar": {
              "outlinewidth": 0,
              "ticks": ""
             }
            },
            "type": "scatterternary"
           }
          ],
          "surface": [
           {
            "colorbar": {
             "outlinewidth": 0,
             "ticks": ""
            },
            "colorscale": [
             [
              0,
              "#0d0887"
             ],
             [
              0.1111111111111111,
              "#46039f"
             ],
             [
              0.2222222222222222,
              "#7201a8"
             ],
             [
              0.3333333333333333,
              "#9c179e"
             ],
             [
              0.4444444444444444,
              "#bd3786"
             ],
             [
              0.5555555555555556,
              "#d8576b"
             ],
             [
              0.6666666666666666,
              "#ed7953"
             ],
             [
              0.7777777777777778,
              "#fb9f3a"
             ],
             [
              0.8888888888888888,
              "#fdca26"
             ],
             [
              1,
              "#f0f921"
             ]
            ],
            "type": "surface"
           }
          ],
          "table": [
           {
            "cells": {
             "fill": {
              "color": "#EBF0F8"
             },
             "line": {
              "color": "white"
             }
            },
            "header": {
             "fill": {
              "color": "#C8D4E3"
             },
             "line": {
              "color": "white"
             }
            },
            "type": "table"
           }
          ]
         },
         "layout": {
          "annotationdefaults": {
           "arrowcolor": "#2a3f5f",
           "arrowhead": 0,
           "arrowwidth": 1
          },
          "autotypenumbers": "strict",
          "coloraxis": {
           "colorbar": {
            "outlinewidth": 0,
            "ticks": ""
           }
          },
          "colorscale": {
           "diverging": [
            [
             0,
             "#8e0152"
            ],
            [
             0.1,
             "#c51b7d"
            ],
            [
             0.2,
             "#de77ae"
            ],
            [
             0.3,
             "#f1b6da"
            ],
            [
             0.4,
             "#fde0ef"
            ],
            [
             0.5,
             "#f7f7f7"
            ],
            [
             0.6,
             "#e6f5d0"
            ],
            [
             0.7,
             "#b8e186"
            ],
            [
             0.8,
             "#7fbc41"
            ],
            [
             0.9,
             "#4d9221"
            ],
            [
             1,
             "#276419"
            ]
           ],
           "sequential": [
            [
             0,
             "#0d0887"
            ],
            [
             0.1111111111111111,
             "#46039f"
            ],
            [
             0.2222222222222222,
             "#7201a8"
            ],
            [
             0.3333333333333333,
             "#9c179e"
            ],
            [
             0.4444444444444444,
             "#bd3786"
            ],
            [
             0.5555555555555556,
             "#d8576b"
            ],
            [
             0.6666666666666666,
             "#ed7953"
            ],
            [
             0.7777777777777778,
             "#fb9f3a"
            ],
            [
             0.8888888888888888,
             "#fdca26"
            ],
            [
             1,
             "#f0f921"
            ]
           ],
           "sequentialminus": [
            [
             0,
             "#0d0887"
            ],
            [
             0.1111111111111111,
             "#46039f"
            ],
            [
             0.2222222222222222,
             "#7201a8"
            ],
            [
             0.3333333333333333,
             "#9c179e"
            ],
            [
             0.4444444444444444,
             "#bd3786"
            ],
            [
             0.5555555555555556,
             "#d8576b"
            ],
            [
             0.6666666666666666,
             "#ed7953"
            ],
            [
             0.7777777777777778,
             "#fb9f3a"
            ],
            [
             0.8888888888888888,
             "#fdca26"
            ],
            [
             1,
             "#f0f921"
            ]
           ]
          },
          "colorway": [
           "#636efa",
           "#EF553B",
           "#00cc96",
           "#ab63fa",
           "#FFA15A",
           "#19d3f3",
           "#FF6692",
           "#B6E880",
           "#FF97FF",
           "#FECB52"
          ],
          "font": {
           "color": "#2a3f5f"
          },
          "geo": {
           "bgcolor": "white",
           "lakecolor": "white",
           "landcolor": "#E5ECF6",
           "showlakes": true,
           "showland": true,
           "subunitcolor": "white"
          },
          "hoverlabel": {
           "align": "left"
          },
          "hovermode": "closest",
          "mapbox": {
           "style": "light"
          },
          "paper_bgcolor": "white",
          "plot_bgcolor": "#E5ECF6",
          "polar": {
           "angularaxis": {
            "gridcolor": "white",
            "linecolor": "white",
            "ticks": ""
           },
           "bgcolor": "#E5ECF6",
           "radialaxis": {
            "gridcolor": "white",
            "linecolor": "white",
            "ticks": ""
           }
          },
          "scene": {
           "xaxis": {
            "backgroundcolor": "#E5ECF6",
            "gridcolor": "white",
            "gridwidth": 2,
            "linecolor": "white",
            "showbackground": true,
            "ticks": "",
            "zerolinecolor": "white"
           },
           "yaxis": {
            "backgroundcolor": "#E5ECF6",
            "gridcolor": "white",
            "gridwidth": 2,
            "linecolor": "white",
            "showbackground": true,
            "ticks": "",
            "zerolinecolor": "white"
           },
           "zaxis": {
            "backgroundcolor": "#E5ECF6",
            "gridcolor": "white",
            "gridwidth": 2,
            "linecolor": "white",
            "showbackground": true,
            "ticks": "",
            "zerolinecolor": "white"
           }
          },
          "shapedefaults": {
           "line": {
            "color": "#2a3f5f"
           }
          },
          "ternary": {
           "aaxis": {
            "gridcolor": "white",
            "linecolor": "white",
            "ticks": ""
           },
           "baxis": {
            "gridcolor": "white",
            "linecolor": "white",
            "ticks": ""
           },
           "bgcolor": "#E5ECF6",
           "caxis": {
            "gridcolor": "white",
            "linecolor": "white",
            "ticks": ""
           }
          },
          "title": {
           "x": 0.05
          },
          "xaxis": {
           "automargin": true,
           "gridcolor": "white",
           "linecolor": "white",
           "ticks": "",
           "title": {
            "standoff": 15
           },
           "zerolinecolor": "white",
           "zerolinewidth": 2
          },
          "yaxis": {
           "automargin": true,
           "gridcolor": "white",
           "linecolor": "white",
           "ticks": "",
           "title": {
            "standoff": 15
           },
           "zerolinecolor": "white",
           "zerolinewidth": 2
          }
         }
        },
        "xaxis": {
         "anchor": "y",
         "domain": [
          0,
          0.45
         ]
        },
        "xaxis2": {
         "anchor": "y2",
         "domain": [
          0.55,
          1
         ]
        },
        "xaxis3": {
         "anchor": "y3",
         "domain": [
          0,
          0.45
         ]
        },
        "xaxis4": {
         "anchor": "y4",
         "domain": [
          0.55,
          1
         ]
        },
        "yaxis": {
         "anchor": "x",
         "domain": [
          0,
          0.425
         ]
        },
        "yaxis2": {
         "anchor": "x2",
         "domain": [
          0,
          0.425
         ]
        },
        "yaxis3": {
         "anchor": "x3",
         "domain": [
          0.575,
          1
         ]
        },
        "yaxis4": {
         "anchor": "x4",
         "domain": [
          0.575,
          1
         ]
        }
       }
      }
     },
     "metadata": {},
     "output_type": "display_data"
    }
   ],
   "source": [
    "plt_coins"
   ]
  }
 ],
 "metadata": {
  "interpreter": {
   "hash": "1f642f91a574f3e0fd389201f043327df64af0843f5ed3cdacce6d2952fbab24"
  },
  "kernelspec": {
   "display_name": "Python 3.10.2 ('datavis')",
   "language": "python",
   "name": "python3"
  },
  "language_info": {
   "codemirror_mode": {
    "name": "ipython",
    "version": 3
   },
   "file_extension": ".py",
   "mimetype": "text/x-python",
   "name": "python",
   "nbconvert_exporter": "python",
   "pygments_lexer": "ipython3",
   "version": "3.10.2"
  },
  "orig_nbformat": 4
 },
 "nbformat": 4,
 "nbformat_minor": 2
}
