{
 "cells": [
  {
   "cell_type": "code",
   "execution_count": 11,
   "id": "2b9eb81d",
   "metadata": {
    "scrolled": true
   },
   "outputs": [],
   "source": [
    "from pandas_datareader import data\n",
    "import matplotlib.pyplot as plt\n",
    "import pandas as pd\n",
    "import pandas_datareader.data as web\n",
    "import pandas as pd\n",
    "import datetime as dt\n"
   ]
  },
  {
   "cell_type": "code",
   "execution_count": 13,
   "id": "d62d3aaa",
   "metadata": {},
   "outputs": [
    {
     "data": {
      "text/html": [
       "<div>\n",
       "<style scoped>\n",
       "    .dataframe tbody tr th:only-of-type {\n",
       "        vertical-align: middle;\n",
       "    }\n",
       "\n",
       "    .dataframe tbody tr th {\n",
       "        vertical-align: top;\n",
       "    }\n",
       "\n",
       "    .dataframe thead th {\n",
       "        text-align: right;\n",
       "    }\n",
       "</style>\n",
       "<table border=\"1\" class=\"dataframe\">\n",
       "  <thead>\n",
       "    <tr style=\"text-align: right;\">\n",
       "      <th></th>\n",
       "      <th>High</th>\n",
       "      <th>Low</th>\n",
       "      <th>Open</th>\n",
       "      <th>Close</th>\n",
       "      <th>Volume</th>\n",
       "      <th>Adj Close</th>\n",
       "    </tr>\n",
       "    <tr>\n",
       "      <th>Date</th>\n",
       "      <th></th>\n",
       "      <th></th>\n",
       "      <th></th>\n",
       "      <th></th>\n",
       "      <th></th>\n",
       "      <th></th>\n",
       "    </tr>\n",
       "  </thead>\n",
       "  <tbody>\n",
       "    <tr>\n",
       "      <th>2019-09-10</th>\n",
       "      <td>74.160004</td>\n",
       "      <td>71.199997</td>\n",
       "      <td>71.279999</td>\n",
       "      <td>73.120003</td>\n",
       "      <td>7827150.0</td>\n",
       "      <td>72.313095</td>\n",
       "    </tr>\n",
       "    <tr>\n",
       "      <th>2019-09-11</th>\n",
       "      <td>74.879997</td>\n",
       "      <td>72.480003</td>\n",
       "      <td>73.199997</td>\n",
       "      <td>74.879997</td>\n",
       "      <td>7136863.0</td>\n",
       "      <td>74.053665</td>\n",
       "    </tr>\n",
       "    <tr>\n",
       "      <th>2019-09-12</th>\n",
       "      <td>76.160004</td>\n",
       "      <td>73.760002</td>\n",
       "      <td>75.199997</td>\n",
       "      <td>74.080002</td>\n",
       "      <td>8514388.0</td>\n",
       "      <td>73.262505</td>\n",
       "    </tr>\n",
       "    <tr>\n",
       "      <th>2019-09-13</th>\n",
       "      <td>75.599998</td>\n",
       "      <td>73.120003</td>\n",
       "      <td>74.480003</td>\n",
       "      <td>74.720001</td>\n",
       "      <td>5698675.0</td>\n",
       "      <td>73.975319</td>\n",
       "    </tr>\n",
       "    <tr>\n",
       "      <th>2019-09-16</th>\n",
       "      <td>75.360001</td>\n",
       "      <td>73.360001</td>\n",
       "      <td>74.400002</td>\n",
       "      <td>75.040001</td>\n",
       "      <td>5718550.0</td>\n",
       "      <td>74.292137</td>\n",
       "    </tr>\n",
       "  </tbody>\n",
       "</table>\n",
       "</div>"
      ],
      "text/plain": [
       "                 High        Low       Open      Close     Volume  Adj Close\n",
       "Date                                                                        \n",
       "2019-09-10  74.160004  71.199997  71.279999  73.120003  7827150.0  72.313095\n",
       "2019-09-11  74.879997  72.480003  73.199997  74.879997  7136863.0  74.053665\n",
       "2019-09-12  76.160004  73.760002  75.199997  74.080002  8514388.0  73.262505\n",
       "2019-09-13  75.599998  73.120003  74.480003  74.720001  5698675.0  73.975319\n",
       "2019-09-16  75.360001  73.360001  74.400002  75.040001  5718550.0  74.292137"
      ]
     },
     "execution_count": 13,
     "metadata": {},
     "output_type": "execute_result"
    }
   ],
   "source": [
    "\n",
    "df = web.DataReader('GE', 'yahoo', start='2019-09-10', end='2019-10-09')\n",
    "\n",
    "df.head()"
   ]
  },
  {
   "cell_type": "code",
   "execution_count": 14,
   "id": "c92d847c",
   "metadata": {},
   "outputs": [
    {
     "data": {
      "text/html": [
       "<div>\n",
       "<style scoped>\n",
       "    .dataframe tbody tr th:only-of-type {\n",
       "        vertical-align: middle;\n",
       "    }\n",
       "\n",
       "    .dataframe tbody tr th {\n",
       "        vertical-align: top;\n",
       "    }\n",
       "\n",
       "    .dataframe thead th {\n",
       "        text-align: right;\n",
       "    }\n",
       "</style>\n",
       "<table border=\"1\" class=\"dataframe\">\n",
       "  <thead>\n",
       "    <tr style=\"text-align: right;\">\n",
       "      <th></th>\n",
       "      <th>action</th>\n",
       "      <th>value</th>\n",
       "    </tr>\n",
       "  </thead>\n",
       "  <tbody>\n",
       "    <tr>\n",
       "      <th>2015-04-27</th>\n",
       "      <td>SPLIT</td>\n",
       "      <td>0.997262</td>\n",
       "    </tr>\n",
       "    <tr>\n",
       "      <th>2014-03-27</th>\n",
       "      <td>SPLIT</td>\n",
       "      <td>0.4995</td>\n",
       "    </tr>\n",
       "  </tbody>\n",
       "</table>\n",
       "</div>"
      ],
      "text/plain": [
       "           action     value\n",
       "2015-04-27  SPLIT  0.997262\n",
       "2014-03-27  SPLIT    0.4995"
      ]
     },
     "execution_count": 14,
     "metadata": {},
     "output_type": "execute_result"
    }
   ],
   "source": [
    "start = dt.datetime(2010, 1, 29)\n",
    "\n",
    "end = dt.datetime.today()\n",
    "\n",
    "actions = web.DataReader('GOOG', 'yahoo-actions', start, end)\n",
    "actions.head()"
   ]
  },
  {
   "cell_type": "code",
   "execution_count": 15,
   "id": "c50a2596",
   "metadata": {},
   "outputs": [
    {
     "data": {
      "text/html": [
       "<div>\n",
       "<style scoped>\n",
       "    .dataframe tbody tr th:only-of-type {\n",
       "        vertical-align: middle;\n",
       "    }\n",
       "\n",
       "    .dataframe tbody tr th {\n",
       "        vertical-align: top;\n",
       "    }\n",
       "\n",
       "    .dataframe thead th {\n",
       "        text-align: right;\n",
       "    }\n",
       "</style>\n",
       "<table border=\"1\" class=\"dataframe\">\n",
       "  <thead>\n",
       "    <tr style=\"text-align: right;\">\n",
       "      <th></th>\n",
       "      <th>action</th>\n",
       "      <th>value</th>\n",
       "    </tr>\n",
       "  </thead>\n",
       "  <tbody>\n",
       "    <tr>\n",
       "      <th>2022-05-09</th>\n",
       "      <td>DIVIDEND</td>\n",
       "      <td>1.65</td>\n",
       "    </tr>\n",
       "    <tr>\n",
       "      <th>2022-02-10</th>\n",
       "      <td>DIVIDEND</td>\n",
       "      <td>1.64</td>\n",
       "    </tr>\n",
       "    <tr>\n",
       "      <th>2021-11-09</th>\n",
       "      <td>DIVIDEND</td>\n",
       "      <td>1.64</td>\n",
       "    </tr>\n",
       "    <tr>\n",
       "      <th>2021-08-09</th>\n",
       "      <td>DIVIDEND</td>\n",
       "      <td>1.567878</td>\n",
       "    </tr>\n",
       "    <tr>\n",
       "      <th>2021-05-07</th>\n",
       "      <td>DIVIDEND</td>\n",
       "      <td>1.567878</td>\n",
       "    </tr>\n",
       "  </tbody>\n",
       "</table>\n",
       "</div>"
      ],
      "text/plain": [
       "              action     value\n",
       "2022-05-09  DIVIDEND      1.65\n",
       "2022-02-10  DIVIDEND      1.64\n",
       "2021-11-09  DIVIDEND      1.64\n",
       "2021-08-09  DIVIDEND  1.567878\n",
       "2021-05-07  DIVIDEND  1.567878"
      ]
     },
     "execution_count": 15,
     "metadata": {},
     "output_type": "execute_result"
    }
   ],
   "source": [
    "dividends = web.DataReader('IBM', 'yahoo-dividends', start, end)\n",
    "\n",
    "dividends.head()\n",
    " "
   ]
  },
  {
   "cell_type": "code",
   "execution_count": null,
   "id": "b0876d05",
   "metadata": {},
   "outputs": [],
   "source": []
  }
 ],
 "metadata": {
  "kernelspec": {
   "display_name": "Python 3 (ipykernel)",
   "language": "python",
   "name": "python3"
  },
  "language_info": {
   "codemirror_mode": {
    "name": "ipython",
    "version": 3
   },
   "file_extension": ".py",
   "mimetype": "text/x-python",
   "name": "python",
   "nbconvert_exporter": "python",
   "pygments_lexer": "ipython3",
   "version": "3.8.12"
  }
 },
 "nbformat": 4,
 "nbformat_minor": 5
}
